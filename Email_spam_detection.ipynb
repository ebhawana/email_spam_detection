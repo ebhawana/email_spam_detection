{
  "nbformat": 4,
  "nbformat_minor": 0,
  "metadata": {
    "colab": {
      "provenance": [],
      "mount_file_id": "1pg-EwVxkDFjjSVfndvbabs8x8mG-BPp8",
      "authorship_tag": "ABX9TyOVkpzy6OePcDY3BzKHroyt",
      "include_colab_link": true
    },
    "kernelspec": {
      "name": "python3",
      "display_name": "Python 3"
    },
    "language_info": {
      "name": "python"
    }
  },
  "cells": [
    {
      "cell_type": "markdown",
      "metadata": {
        "id": "view-in-github",
        "colab_type": "text"
      },
      "source": [
        "<a href=\"https://colab.research.google.com/github/ebhawana/email_spam_detection/blob/main/Email_spam_detection.ipynb\" target=\"_parent\"><img src=\"https://colab.research.google.com/assets/colab-badge.svg\" alt=\"Open In Colab\"/></a>"
      ]
    },
    {
      "cell_type": "markdown",
      "source": [
        "This classifier model aims to learn patterns from historical labeled emails (spam vs ham), using features such as Words/phrases used and email structure.\n",
        "\n",
        "IT then generalizes this learning to classify new, unseen emails correctly."
      ],
      "metadata": {
        "id": "w1Chx7FQzDlr"
      }
    },
    {
      "cell_type": "code",
      "execution_count": 1,
      "metadata": {
        "colab": {
          "base_uri": "https://localhost:8080/"
        },
        "id": "ux49-RolMNru",
        "outputId": "55273790-41f3-4161-c90d-c59acfb160f5"
      },
      "outputs": [
        {
          "output_type": "stream",
          "name": "stderr",
          "text": [
            "[nltk_data] Downloading package stopwords to /root/nltk_data...\n",
            "[nltk_data]   Unzipping corpora/stopwords.zip.\n",
            "[nltk_data] Downloading package punkt to /root/nltk_data...\n",
            "[nltk_data]   Unzipping tokenizers/punkt.zip.\n",
            "[nltk_data] Downloading package punkt_tab to /root/nltk_data...\n",
            "[nltk_data]   Unzipping tokenizers/punkt_tab.zip.\n"
          ]
        },
        {
          "output_type": "stream",
          "name": "stdout",
          "text": [
            "Added current directory to NLTK data path: /content\n"
          ]
        }
      ],
      "source": [
        "import pandas as pd\n",
        "import matplotlib.pyplot as plt\n",
        "import seaborn as sns\n",
        "\n",
        "import nltk  #we perform data preprocessing tasks like removing unnecessary words, and punctuation and converting text to lowercase using NLTK\n",
        "nltk.download('stopwords')#Downloads a list of common words (like \"the\", \"a\", \"is\") that are often removed from text during preprocessing\n",
        "nltk.download('punkt')#ownloads data for tokenizing sentences into words.\n",
        "nltk.download('punkt_tab')\n",
        "import string\n",
        "from nltk.corpus import stopwords\n",
        "from nltk.stem import PorterStemmer\n",
        "from nltk.tokenize import sent_tokenize, word_tokenize\n",
        "import re# Provides regular expression operations for pattern matching in text.\n",
        "from collections import Counter\n",
        "from sklearn.preprocessing import LabelEncoder\n",
        "\n",
        "# Model Building\n",
        "from sklearn.feature_extraction.text import TfidfVectorizer\n",
        "from sklearn.model_selection import train_test_split\n",
        "from sklearn.svm import SVC\n",
        "from sklearn.ensemble import RandomForestClassifier\n",
        "from sklearn.naive_bayes import MultinomialNB\n",
        "from sklearn.metrics import accuracy_score,confusion_matrix,precision_score\n",
        "\n",
        "\n",
        "import os\n",
        "# Get the current working directory\n",
        "current_dir = os.getcwd()\n",
        "\n",
        "# Add the current directory to NLTK's data path\n",
        "if current_dir not in nltk.data.path:\n",
        "    nltk.data.path.append(current_dir)\n",
        "    print(\"Added current directory to NLTK data path:\", current_dir)\n",
        "else:\n",
        "    print(\"Current directory is already in NLTK data path:\", current_dir)\n"
      ]
    },
    {
      "cell_type": "code",
      "source": [
        "# Importing the Dataset Initial exploration and data cleaning\n",
        "data = pd.read_csv(\"/content/drive/MyDrive/Colab Notebooks/Projects/Email.csv\",encoding='latin1')\n",
        "print(data.sample(5))\n",
        "print(data.shape,'\\n')\n",
        "print(data.info())"
      ],
      "metadata": {
        "colab": {
          "base_uri": "https://localhost:8080/"
        },
        "id": "lBFJAK7Tav1g",
        "outputId": "ed4fac1e-ccf3-458d-dcef-145cafaee898"
      },
      "execution_count": null,
      "outputs": [
        {
          "output_type": "stream",
          "name": "stdout",
          "text": [
            "        v1                                                 v2 Unnamed: 2  \\\n",
            "1141  spam  I don't know u and u don't know me. Send CHAT ...        NaN   \n",
            "327    ham  I'd say that's a good sign but, well, you know...        NaN   \n",
            "156    ham                        I'm leaving my house now...        NaN   \n",
            "479    ham  When're you guys getting back? G said you were...        NaN   \n",
            "2828  spam  Send a logo 2 ur lover - 2 names joined by a h...        NaN   \n",
            "\n",
            "     Unnamed: 3 Unnamed: 4  \n",
            "1141        NaN        NaN  \n",
            "327         NaN        NaN  \n",
            "156         NaN        NaN  \n",
            "479         NaN        NaN  \n",
            "2828        NaN        NaN  \n",
            "(5572, 5) \n",
            "\n",
            "<class 'pandas.core.frame.DataFrame'>\n",
            "RangeIndex: 5572 entries, 0 to 5571\n",
            "Data columns (total 5 columns):\n",
            " #   Column      Non-Null Count  Dtype \n",
            "---  ------      --------------  ----- \n",
            " 0   v1          5572 non-null   object\n",
            " 1   v2          5572 non-null   object\n",
            " 2   Unnamed: 2  50 non-null     object\n",
            " 3   Unnamed: 3  12 non-null     object\n",
            " 4   Unnamed: 4  6 non-null      object\n",
            "dtypes: object(5)\n",
            "memory usage: 217.8+ KB\n",
            "None\n"
          ]
        }
      ]
    },
    {
      "cell_type": "code",
      "source": [
        "df=data.drop(columns=['Unnamed: 2','Unnamed: 3','Unnamed: 4'],axis=1)"
      ],
      "metadata": {
        "id": "CAOKN0DMUyLY"
      },
      "execution_count": null,
      "outputs": []
    },
    {
      "cell_type": "code",
      "source": [
        "df.rename(columns={'v1':'result','v2':'emails'}, inplace=True)"
      ],
      "metadata": {
        "id": "I8Wxbl7jVwOr"
      },
      "execution_count": null,
      "outputs": []
    },
    {
      "cell_type": "code",
      "source": [
        "df.isnull().sum()"
      ],
      "metadata": {
        "colab": {
          "base_uri": "https://localhost:8080/",
          "height": 147
        },
        "id": "ERI5h8BzXMyL",
        "outputId": "1420a10a-8ff8-4346-bf4e-2eb443547ab8"
      },
      "execution_count": null,
      "outputs": [
        {
          "output_type": "execute_result",
          "data": {
            "text/plain": [
              "result    0\n",
              "emails    0\n",
              "dtype: int64"
            ],
            "text/html": [
              "<div>\n",
              "<style scoped>\n",
              "    .dataframe tbody tr th:only-of-type {\n",
              "        vertical-align: middle;\n",
              "    }\n",
              "\n",
              "    .dataframe tbody tr th {\n",
              "        vertical-align: top;\n",
              "    }\n",
              "\n",
              "    .dataframe thead th {\n",
              "        text-align: right;\n",
              "    }\n",
              "</style>\n",
              "<table border=\"1\" class=\"dataframe\">\n",
              "  <thead>\n",
              "    <tr style=\"text-align: right;\">\n",
              "      <th></th>\n",
              "      <th>0</th>\n",
              "    </tr>\n",
              "  </thead>\n",
              "  <tbody>\n",
              "    <tr>\n",
              "      <th>result</th>\n",
              "      <td>0</td>\n",
              "    </tr>\n",
              "    <tr>\n",
              "      <th>emails</th>\n",
              "      <td>0</td>\n",
              "    </tr>\n",
              "  </tbody>\n",
              "</table>\n",
              "</div><br><label><b>dtype:</b> int64</label>"
            ]
          },
          "metadata": {},
          "execution_count": 35
        }
      ]
    },
    {
      "cell_type": "code",
      "source": [
        "df.duplicated().sum()"
      ],
      "metadata": {
        "colab": {
          "base_uri": "https://localhost:8080/"
        },
        "id": "AqBUxVA0Xpxf",
        "outputId": "05121c12-4d45-46e6-f82d-f64453f866e4"
      },
      "execution_count": null,
      "outputs": [
        {
          "output_type": "execute_result",
          "data": {
            "text/plain": [
              "np.int64(403)"
            ]
          },
          "metadata": {},
          "execution_count": 36
        }
      ]
    },
    {
      "cell_type": "code",
      "source": [
        "df.drop_duplicates(keep='first',inplace=True)"
      ],
      "metadata": {
        "id": "kXmsFLRTX10G"
      },
      "execution_count": null,
      "outputs": []
    },
    {
      "cell_type": "code",
      "source": [
        "df.shape"
      ],
      "metadata": {
        "colab": {
          "base_uri": "https://localhost:8080/"
        },
        "id": "-ELtWiVuYBZC",
        "outputId": "27475422-f66d-42e2-d2b1-ec16a563f215"
      },
      "execution_count": null,
      "outputs": [
        {
          "output_type": "execute_result",
          "data": {
            "text/plain": [
              "(5169, 2)"
            ]
          },
          "metadata": {},
          "execution_count": 38
        }
      ]
    },
    {
      "cell_type": "code",
      "source": [
        "df.head(5)"
      ],
      "metadata": {
        "colab": {
          "base_uri": "https://localhost:8080/",
          "height": 206
        },
        "id": "tkxYQWEbYGYX",
        "outputId": "b81ee3de-7e2f-40d1-96be-4c5db0576c11"
      },
      "execution_count": null,
      "outputs": [
        {
          "output_type": "execute_result",
          "data": {
            "text/plain": [
              "  result                                             emails\n",
              "0    ham  Go until jurong point, crazy.. Available only ...\n",
              "1    ham                      Ok lar... Joking wif u oni...\n",
              "2   spam  Free entry in 2 a wkly comp to win FA Cup fina...\n",
              "3    ham  U dun say so early hor... U c already then say...\n",
              "4    ham  Nah I don't think he goes to usf, he lives aro..."
            ],
            "text/html": [
              "\n",
              "  <div id=\"df-c731b0c3-bb16-49f7-a1b7-f2c6a8d3b2c1\" class=\"colab-df-container\">\n",
              "    <div>\n",
              "<style scoped>\n",
              "    .dataframe tbody tr th:only-of-type {\n",
              "        vertical-align: middle;\n",
              "    }\n",
              "\n",
              "    .dataframe tbody tr th {\n",
              "        vertical-align: top;\n",
              "    }\n",
              "\n",
              "    .dataframe thead th {\n",
              "        text-align: right;\n",
              "    }\n",
              "</style>\n",
              "<table border=\"1\" class=\"dataframe\">\n",
              "  <thead>\n",
              "    <tr style=\"text-align: right;\">\n",
              "      <th></th>\n",
              "      <th>result</th>\n",
              "      <th>emails</th>\n",
              "    </tr>\n",
              "  </thead>\n",
              "  <tbody>\n",
              "    <tr>\n",
              "      <th>0</th>\n",
              "      <td>ham</td>\n",
              "      <td>Go until jurong point, crazy.. Available only ...</td>\n",
              "    </tr>\n",
              "    <tr>\n",
              "      <th>1</th>\n",
              "      <td>ham</td>\n",
              "      <td>Ok lar... Joking wif u oni...</td>\n",
              "    </tr>\n",
              "    <tr>\n",
              "      <th>2</th>\n",
              "      <td>spam</td>\n",
              "      <td>Free entry in 2 a wkly comp to win FA Cup fina...</td>\n",
              "    </tr>\n",
              "    <tr>\n",
              "      <th>3</th>\n",
              "      <td>ham</td>\n",
              "      <td>U dun say so early hor... U c already then say...</td>\n",
              "    </tr>\n",
              "    <tr>\n",
              "      <th>4</th>\n",
              "      <td>ham</td>\n",
              "      <td>Nah I don't think he goes to usf, he lives aro...</td>\n",
              "    </tr>\n",
              "  </tbody>\n",
              "</table>\n",
              "</div>\n",
              "    <div class=\"colab-df-buttons\">\n",
              "\n",
              "  <div class=\"colab-df-container\">\n",
              "    <button class=\"colab-df-convert\" onclick=\"convertToInteractive('df-c731b0c3-bb16-49f7-a1b7-f2c6a8d3b2c1')\"\n",
              "            title=\"Convert this dataframe to an interactive table.\"\n",
              "            style=\"display:none;\">\n",
              "\n",
              "  <svg xmlns=\"http://www.w3.org/2000/svg\" height=\"24px\" viewBox=\"0 -960 960 960\">\n",
              "    <path d=\"M120-120v-720h720v720H120Zm60-500h600v-160H180v160Zm220 220h160v-160H400v160Zm0 220h160v-160H400v160ZM180-400h160v-160H180v160Zm440 0h160v-160H620v160ZM180-180h160v-160H180v160Zm440 0h160v-160H620v160Z\"/>\n",
              "  </svg>\n",
              "    </button>\n",
              "\n",
              "  <style>\n",
              "    .colab-df-container {\n",
              "      display:flex;\n",
              "      gap: 12px;\n",
              "    }\n",
              "\n",
              "    .colab-df-convert {\n",
              "      background-color: #E8F0FE;\n",
              "      border: none;\n",
              "      border-radius: 50%;\n",
              "      cursor: pointer;\n",
              "      display: none;\n",
              "      fill: #1967D2;\n",
              "      height: 32px;\n",
              "      padding: 0 0 0 0;\n",
              "      width: 32px;\n",
              "    }\n",
              "\n",
              "    .colab-df-convert:hover {\n",
              "      background-color: #E2EBFA;\n",
              "      box-shadow: 0px 1px 2px rgba(60, 64, 67, 0.3), 0px 1px 3px 1px rgba(60, 64, 67, 0.15);\n",
              "      fill: #174EA6;\n",
              "    }\n",
              "\n",
              "    .colab-df-buttons div {\n",
              "      margin-bottom: 4px;\n",
              "    }\n",
              "\n",
              "    [theme=dark] .colab-df-convert {\n",
              "      background-color: #3B4455;\n",
              "      fill: #D2E3FC;\n",
              "    }\n",
              "\n",
              "    [theme=dark] .colab-df-convert:hover {\n",
              "      background-color: #434B5C;\n",
              "      box-shadow: 0px 1px 3px 1px rgba(0, 0, 0, 0.15);\n",
              "      filter: drop-shadow(0px 1px 2px rgba(0, 0, 0, 0.3));\n",
              "      fill: #FFFFFF;\n",
              "    }\n",
              "  </style>\n",
              "\n",
              "    <script>\n",
              "      const buttonEl =\n",
              "        document.querySelector('#df-c731b0c3-bb16-49f7-a1b7-f2c6a8d3b2c1 button.colab-df-convert');\n",
              "      buttonEl.style.display =\n",
              "        google.colab.kernel.accessAllowed ? 'block' : 'none';\n",
              "\n",
              "      async function convertToInteractive(key) {\n",
              "        const element = document.querySelector('#df-c731b0c3-bb16-49f7-a1b7-f2c6a8d3b2c1');\n",
              "        const dataTable =\n",
              "          await google.colab.kernel.invokeFunction('convertToInteractive',\n",
              "                                                    [key], {});\n",
              "        if (!dataTable) return;\n",
              "\n",
              "        const docLinkHtml = 'Like what you see? Visit the ' +\n",
              "          '<a target=\"_blank\" href=https://colab.research.google.com/notebooks/data_table.ipynb>data table notebook</a>'\n",
              "          + ' to learn more about interactive tables.';\n",
              "        element.innerHTML = '';\n",
              "        dataTable['output_type'] = 'display_data';\n",
              "        await google.colab.output.renderOutput(dataTable, element);\n",
              "        const docLink = document.createElement('div');\n",
              "        docLink.innerHTML = docLinkHtml;\n",
              "        element.appendChild(docLink);\n",
              "      }\n",
              "    </script>\n",
              "  </div>\n",
              "\n",
              "\n",
              "    <div id=\"df-58308fdf-5c66-4c2e-beb9-0f3b4054a75b\">\n",
              "      <button class=\"colab-df-quickchart\" onclick=\"quickchart('df-58308fdf-5c66-4c2e-beb9-0f3b4054a75b')\"\n",
              "                title=\"Suggest charts\"\n",
              "                style=\"display:none;\">\n",
              "\n",
              "<svg xmlns=\"http://www.w3.org/2000/svg\" height=\"24px\"viewBox=\"0 0 24 24\"\n",
              "     width=\"24px\">\n",
              "    <g>\n",
              "        <path d=\"M19 3H5c-1.1 0-2 .9-2 2v14c0 1.1.9 2 2 2h14c1.1 0 2-.9 2-2V5c0-1.1-.9-2-2-2zM9 17H7v-7h2v7zm4 0h-2V7h2v10zm4 0h-2v-4h2v4z\"/>\n",
              "    </g>\n",
              "</svg>\n",
              "      </button>\n",
              "\n",
              "<style>\n",
              "  .colab-df-quickchart {\n",
              "      --bg-color: #E8F0FE;\n",
              "      --fill-color: #1967D2;\n",
              "      --hover-bg-color: #E2EBFA;\n",
              "      --hover-fill-color: #174EA6;\n",
              "      --disabled-fill-color: #AAA;\n",
              "      --disabled-bg-color: #DDD;\n",
              "  }\n",
              "\n",
              "  [theme=dark] .colab-df-quickchart {\n",
              "      --bg-color: #3B4455;\n",
              "      --fill-color: #D2E3FC;\n",
              "      --hover-bg-color: #434B5C;\n",
              "      --hover-fill-color: #FFFFFF;\n",
              "      --disabled-bg-color: #3B4455;\n",
              "      --disabled-fill-color: #666;\n",
              "  }\n",
              "\n",
              "  .colab-df-quickchart {\n",
              "    background-color: var(--bg-color);\n",
              "    border: none;\n",
              "    border-radius: 50%;\n",
              "    cursor: pointer;\n",
              "    display: none;\n",
              "    fill: var(--fill-color);\n",
              "    height: 32px;\n",
              "    padding: 0;\n",
              "    width: 32px;\n",
              "  }\n",
              "\n",
              "  .colab-df-quickchart:hover {\n",
              "    background-color: var(--hover-bg-color);\n",
              "    box-shadow: 0 1px 2px rgba(60, 64, 67, 0.3), 0 1px 3px 1px rgba(60, 64, 67, 0.15);\n",
              "    fill: var(--button-hover-fill-color);\n",
              "  }\n",
              "\n",
              "  .colab-df-quickchart-complete:disabled,\n",
              "  .colab-df-quickchart-complete:disabled:hover {\n",
              "    background-color: var(--disabled-bg-color);\n",
              "    fill: var(--disabled-fill-color);\n",
              "    box-shadow: none;\n",
              "  }\n",
              "\n",
              "  .colab-df-spinner {\n",
              "    border: 2px solid var(--fill-color);\n",
              "    border-color: transparent;\n",
              "    border-bottom-color: var(--fill-color);\n",
              "    animation:\n",
              "      spin 1s steps(1) infinite;\n",
              "  }\n",
              "\n",
              "  @keyframes spin {\n",
              "    0% {\n",
              "      border-color: transparent;\n",
              "      border-bottom-color: var(--fill-color);\n",
              "      border-left-color: var(--fill-color);\n",
              "    }\n",
              "    20% {\n",
              "      border-color: transparent;\n",
              "      border-left-color: var(--fill-color);\n",
              "      border-top-color: var(--fill-color);\n",
              "    }\n",
              "    30% {\n",
              "      border-color: transparent;\n",
              "      border-left-color: var(--fill-color);\n",
              "      border-top-color: var(--fill-color);\n",
              "      border-right-color: var(--fill-color);\n",
              "    }\n",
              "    40% {\n",
              "      border-color: transparent;\n",
              "      border-right-color: var(--fill-color);\n",
              "      border-top-color: var(--fill-color);\n",
              "    }\n",
              "    60% {\n",
              "      border-color: transparent;\n",
              "      border-right-color: var(--fill-color);\n",
              "    }\n",
              "    80% {\n",
              "      border-color: transparent;\n",
              "      border-right-color: var(--fill-color);\n",
              "      border-bottom-color: var(--fill-color);\n",
              "    }\n",
              "    90% {\n",
              "      border-color: transparent;\n",
              "      border-bottom-color: var(--fill-color);\n",
              "    }\n",
              "  }\n",
              "</style>\n",
              "\n",
              "      <script>\n",
              "        async function quickchart(key) {\n",
              "          const quickchartButtonEl =\n",
              "            document.querySelector('#' + key + ' button');\n",
              "          quickchartButtonEl.disabled = true;  // To prevent multiple clicks.\n",
              "          quickchartButtonEl.classList.add('colab-df-spinner');\n",
              "          try {\n",
              "            const charts = await google.colab.kernel.invokeFunction(\n",
              "                'suggestCharts', [key], {});\n",
              "          } catch (error) {\n",
              "            console.error('Error during call to suggestCharts:', error);\n",
              "          }\n",
              "          quickchartButtonEl.classList.remove('colab-df-spinner');\n",
              "          quickchartButtonEl.classList.add('colab-df-quickchart-complete');\n",
              "        }\n",
              "        (() => {\n",
              "          let quickchartButtonEl =\n",
              "            document.querySelector('#df-58308fdf-5c66-4c2e-beb9-0f3b4054a75b button');\n",
              "          quickchartButtonEl.style.display =\n",
              "            google.colab.kernel.accessAllowed ? 'block' : 'none';\n",
              "        })();\n",
              "      </script>\n",
              "    </div>\n",
              "\n",
              "    </div>\n",
              "  </div>\n"
            ],
            "application/vnd.google.colaboratory.intrinsic+json": {
              "type": "dataframe",
              "variable_name": "df",
              "summary": "{\n  \"name\": \"df\",\n  \"rows\": 5169,\n  \"fields\": [\n    {\n      \"column\": \"result\",\n      \"properties\": {\n        \"dtype\": \"category\",\n        \"num_unique_values\": 2,\n        \"samples\": [\n          \"spam\",\n          \"ham\"\n        ],\n        \"semantic_type\": \"\",\n        \"description\": \"\"\n      }\n    },\n    {\n      \"column\": \"emails\",\n      \"properties\": {\n        \"dtype\": \"string\",\n        \"num_unique_values\": 5169,\n        \"samples\": [\n          \"Did u download the fring app?\",\n          \"Pass dis to all ur contacts n see wat u get! Red;i'm in luv wid u. Blue;u put a smile on my face. Purple;u r realy hot. Pink;u r so swt. Orange;i thnk i lyk u. Green;i realy wana go out wid u. Yelow;i wnt u bck. Black;i'm jealous of u. Brown;i miss you Nw plz giv me one color\"\n        ],\n        \"semantic_type\": \"\",\n        \"description\": \"\"\n      }\n    }\n  ]\n}"
            }
          },
          "metadata": {},
          "execution_count": 39
        }
      ]
    },
    {
      "cell_type": "code",
      "source": [
        "#EDA:\n",
        "df['result'].value_counts()"
      ],
      "metadata": {
        "colab": {
          "base_uri": "https://localhost:8080/",
          "height": 178
        },
        "id": "cqlcu1ZMYKC1",
        "outputId": "989ba3bd-4927-403a-deca-5be6e646e4c3"
      },
      "execution_count": null,
      "outputs": [
        {
          "output_type": "execute_result",
          "data": {
            "text/plain": [
              "result\n",
              "ham     4516\n",
              "spam     653\n",
              "Name: count, dtype: int64"
            ],
            "text/html": [
              "<div>\n",
              "<style scoped>\n",
              "    .dataframe tbody tr th:only-of-type {\n",
              "        vertical-align: middle;\n",
              "    }\n",
              "\n",
              "    .dataframe tbody tr th {\n",
              "        vertical-align: top;\n",
              "    }\n",
              "\n",
              "    .dataframe thead th {\n",
              "        text-align: right;\n",
              "    }\n",
              "</style>\n",
              "<table border=\"1\" class=\"dataframe\">\n",
              "  <thead>\n",
              "    <tr style=\"text-align: right;\">\n",
              "      <th></th>\n",
              "      <th>count</th>\n",
              "    </tr>\n",
              "    <tr>\n",
              "      <th>result</th>\n",
              "      <th></th>\n",
              "    </tr>\n",
              "  </thead>\n",
              "  <tbody>\n",
              "    <tr>\n",
              "      <th>ham</th>\n",
              "      <td>4516</td>\n",
              "    </tr>\n",
              "    <tr>\n",
              "      <th>spam</th>\n",
              "      <td>653</td>\n",
              "    </tr>\n",
              "  </tbody>\n",
              "</table>\n",
              "</div><br><label><b>dtype:</b> int64</label>"
            ]
          },
          "metadata": {},
          "execution_count": 40
        }
      ]
    },
    {
      "cell_type": "code",
      "source": [
        "#plotting the pie chart\n",
        "x=df['result'].value_counts()\n",
        "plt.pie(x.values,labels=x.index,autopct='%1.2f%%')\n",
        "plt.title('Distrubution of SPAM and HAM Emails')\n",
        "plt.show()"
      ],
      "metadata": {
        "colab": {
          "base_uri": "https://localhost:8080/",
          "height": 428
        },
        "id": "EijIZTHxbON_",
        "outputId": "53d75a1a-aef5-42a4-a198-e02bed5c9a2b"
      },
      "execution_count": null,
      "outputs": [
        {
          "output_type": "display_data",
          "data": {
            "text/plain": [
              "<Figure size 640x480 with 1 Axes>"
            ],
            "image/png": "[encoded data removed]"
          },
          "metadata": {}
        }
      ]
    },
    {
      "cell_type": "markdown",
      "source": [
        "From above graph we can see that most of the emails(87.37%) are not spam and 12.63% of emails very small portion of emails are classified as spam."
      ],
      "metadata": {
        "id": "XkWYE4jXb9c0"
      }
    },
    {
      "cell_type": "code",
      "source": [
        "data = df.copy()\n",
        "data['Length'] = data['emails'].apply(len)\n",
        "data['num_words'] = data['emails'].apply(word_tokenize).apply(len)\n",
        "data['num_sentence'] = data['emails'].apply(sent_tokenize).apply(len)\n",
        "data.head(2)"
      ],
      "metadata": {
        "colab": {
          "base_uri": "https://localhost:8080/",
          "height": 112
        },
        "id": "eTS0pmg-bctO",
        "outputId": "bd63d795-46a9-4527-fd55-98ae46d57e72"
      },
      "execution_count": null,
      "outputs": [
        {
          "output_type": "execute_result",
          "data": {
            "text/plain": [
              "  result                                             emails  Length  \\\n",
              "0    ham  Go until jurong point, crazy.. Available only ...     111   \n",
              "1    ham                      Ok lar... Joking wif u oni...      29   \n",
              "\n",
              "   num_words  num_sentence  \n",
              "0         24             2  \n",
              "1          8             2  "
            ],
            "text/html": [
              "\n",
              "  <div id=\"df-ba7ce4de-1734-4f16-abcb-0f6a831c66e1\" class=\"colab-df-container\">\n",
              "    <div>\n",
              "<style scoped>\n",
              "    .dataframe tbody tr th:only-of-type {\n",
              "        vertical-align: middle;\n",
              "    }\n",
              "\n",
              "    .dataframe tbody tr th {\n",
              "        vertical-align: top;\n",
              "    }\n",
              "\n",
              "    .dataframe thead th {\n",
              "        text-align: right;\n",
              "    }\n",
              "</style>\n",
              "<table border=\"1\" class=\"dataframe\">\n",
              "  <thead>\n",
              "    <tr style=\"text-align: right;\">\n",
              "      <th></th>\n",
              "      <th>result</th>\n",
              "      <th>emails</th>\n",
              "      <th>Length</th>\n",
              "      <th>num_words</th>\n",
              "      <th>num_sentence</th>\n",
              "    </tr>\n",
              "  </thead>\n",
              "  <tbody>\n",
              "    <tr>\n",
              "      <th>0</th>\n",
              "      <td>ham</td>\n",
              "      <td>Go until jurong point, crazy.. Available only ...</td>\n",
              "      <td>111</td>\n",
              "      <td>24</td>\n",
              "      <td>2</td>\n",
              "    </tr>\n",
              "    <tr>\n",
              "      <th>1</th>\n",
              "      <td>ham</td>\n",
              "      <td>Ok lar... Joking wif u oni...</td>\n",
              "      <td>29</td>\n",
              "      <td>8</td>\n",
              "      <td>2</td>\n",
              "    </tr>\n",
              "  </tbody>\n",
              "</table>\n",
              "</div>\n",
              "    <div class=\"colab-df-buttons\">\n",
              "\n",
              "  <div class=\"colab-df-container\">\n",
              "    <button class=\"colab-df-convert\" onclick=\"convertToInteractive('df-ba7ce4de-1734-4f16-abcb-0f6a831c66e1')\"\n",
              "            title=\"Convert this dataframe to an interactive table.\"\n",
              "            style=\"display:none;\">\n",
              "\n",
              "  <svg xmlns=\"http://www.w3.org/2000/svg\" height=\"24px\" viewBox=\"0 -960 960 960\">\n",
              "    <path d=\"M120-120v-720h720v720H120Zm60-500h600v-160H180v160Zm220 220h160v-160H400v160Zm0 220h160v-160H400v160ZM180-400h160v-160H180v160Zm440 0h160v-160H620v160ZM180-180h160v-160H180v160Zm440 0h160v-160H620v160Z\"/>\n",
              "  </svg>\n",
              "    </button>\n",
              "\n",
              "  <style>\n",
              "    .colab-df-container {\n",
              "      display:flex;\n",
              "      gap: 12px;\n",
              "    }\n",
              "\n",
              "    .colab-df-convert {\n",
              "      background-color: #E8F0FE;\n",
              "      border: none;\n",
              "      border-radius: 50%;\n",
              "      cursor: pointer;\n",
              "      display: none;\n",
              "      fill: #1967D2;\n",
              "      height: 32px;\n",
              "      padding: 0 0 0 0;\n",
              "      width: 32px;\n",
              "    }\n",
              "\n",
              "    .colab-df-convert:hover {\n",
              "      background-color: #E2EBFA;\n",
              "      box-shadow: 0px 1px 2px rgba(60, 64, 67, 0.3), 0px 1px 3px 1px rgba(60, 64, 67, 0.15);\n",
              "      fill: #174EA6;\n",
              "    }\n",
              "\n",
              "    .colab-df-buttons div {\n",
              "      margin-bottom: 4px;\n",
              "    }\n",
              "\n",
              "    [theme=dark] .colab-df-convert {\n",
              "      background-color: #3B4455;\n",
              "      fill: #D2E3FC;\n",
              "    }\n",
              "\n",
              "    [theme=dark] .colab-df-convert:hover {\n",
              "      background-color: #434B5C;\n",
              "      box-shadow: 0px 1px 3px 1px rgba(0, 0, 0, 0.15);\n",
              "      filter: drop-shadow(0px 1px 2px rgba(0, 0, 0, 0.3));\n",
              "      fill: #FFFFFF;\n",
              "    }\n",
              "  </style>\n",
              "\n",
              "    <script>\n",
              "      const buttonEl =\n",
              "        document.querySelector('#df-ba7ce4de-1734-4f16-abcb-0f6a831c66e1 button.colab-df-convert');\n",
              "      buttonEl.style.display =\n",
              "        google.colab.kernel.accessAllowed ? 'block' : 'none';\n",
              "\n",
              "      async function convertToInteractive(key) {\n",
              "        const element = document.querySelector('#df-ba7ce4de-1734-4f16-abcb-0f6a831c66e1');\n",
              "        const dataTable =\n",
              "          await google.colab.kernel.invokeFunction('convertToInteractive',\n",
              "                                                    [key], {});\n",
              "        if (!dataTable) return;\n",
              "\n",
              "        const docLinkHtml = 'Like what you see? Visit the ' +\n",
              "          '<a target=\"_blank\" href=https://colab.research.google.com/notebooks/data_table.ipynb>data table notebook</a>'\n",
              "          + ' to learn more about interactive tables.';\n",
              "        element.innerHTML = '';\n",
              "        dataTable['output_type'] = 'display_data';\n",
              "        await google.colab.output.renderOutput(dataTable, element);\n",
              "        const docLink = document.createElement('div');\n",
              "        docLink.innerHTML = docLinkHtml;\n",
              "        element.appendChild(docLink);\n",
              "      }\n",
              "    </script>\n",
              "  </div>\n",
              "\n",
              "\n",
              "    <div id=\"df-a504f133-50c6-4385-a99f-4f8886eb2975\">\n",
              "      <button class=\"colab-df-quickchart\" onclick=\"quickchart('df-a504f133-50c6-4385-a99f-4f8886eb2975')\"\n",
              "                title=\"Suggest charts\"\n",
              "                style=\"display:none;\">\n",
              "\n",
              "<svg xmlns=\"http://www.w3.org/2000/svg\" height=\"24px\"viewBox=\"0 0 24 24\"\n",
              "     width=\"24px\">\n",
              "    <g>\n",
              "        <path d=\"M19 3H5c-1.1 0-2 .9-2 2v14c0 1.1.9 2 2 2h14c1.1 0 2-.9 2-2V5c0-1.1-.9-2-2-2zM9 17H7v-7h2v7zm4 0h-2V7h2v10zm4 0h-2v-4h2v4z\"/>\n",
              "    </g>\n",
              "</svg>\n",
              "      </button>\n",
              "\n",
              "<style>\n",
              "  .colab-df-quickchart {\n",
              "      --bg-color: #E8F0FE;\n",
              "      --fill-color: #1967D2;\n",
              "      --hover-bg-color: #E2EBFA;\n",
              "      --hover-fill-color: #174EA6;\n",
              "      --disabled-fill-color: #AAA;\n",
              "      --disabled-bg-color: #DDD;\n",
              "  }\n",
              "\n",
              "  [theme=dark] .colab-df-quickchart {\n",
              "      --bg-color: #3B4455;\n",
              "      --fill-color: #D2E3FC;\n",
              "      --hover-bg-color: #434B5C;\n",
              "      --hover-fill-color: #FFFFFF;\n",
              "      --disabled-bg-color: #3B4455;\n",
              "      --disabled-fill-color: #666;\n",
              "  }\n",
              "\n",
              "  .colab-df-quickchart {\n",
              "    background-color: var(--bg-color);\n",
              "    border: none;\n",
              "    border-radius: 50%;\n",
              "    cursor: pointer;\n",
              "    display: none;\n",
              "    fill: var(--fill-color);\n",
              "    height: 32px;\n",
              "    padding: 0;\n",
              "    width: 32px;\n",
              "  }\n",
              "\n",
              "  .colab-df-quickchart:hover {\n",
              "    background-color: var(--hover-bg-color);\n",
              "    box-shadow: 0 1px 2px rgba(60, 64, 67, 0.3), 0 1px 3px 1px rgba(60, 64, 67, 0.15);\n",
              "    fill: var(--button-hover-fill-color);\n",
              "  }\n",
              "\n",
              "  .colab-df-quickchart-complete:disabled,\n",
              "  .colab-df-quickchart-complete:disabled:hover {\n",
              "    background-color: var(--disabled-bg-color);\n",
              "    fill: var(--disabled-fill-color);\n",
              "    box-shadow: none;\n",
              "  }\n",
              "\n",
              "  .colab-df-spinner {\n",
              "    border: 2px solid var(--fill-color);\n",
              "    border-color: transparent;\n",
              "    border-bottom-color: var(--fill-color);\n",
              "    animation:\n",
              "      spin 1s steps(1) infinite;\n",
              "  }\n",
              "\n",
              "  @keyframes spin {\n",
              "    0% {\n",
              "      border-color: transparent;\n",
              "      border-bottom-color: var(--fill-color);\n",
              "      border-left-color: var(--fill-color);\n",
              "    }\n",
              "    20% {\n",
              "      border-color: transparent;\n",
              "      border-left-color: var(--fill-color);\n",
              "      border-top-color: var(--fill-color);\n",
              "    }\n",
              "    30% {\n",
              "      border-color: transparent;\n",
              "      border-left-color: var(--fill-color);\n",
              "      border-top-color: var(--fill-color);\n",
              "      border-right-color: var(--fill-color);\n",
              "    }\n",
              "    40% {\n",
              "      border-color: transparent;\n",
              "      border-right-color: var(--fill-color);\n",
              "      border-top-color: var(--fill-color);\n",
              "    }\n",
              "    60% {\n",
              "      border-color: transparent;\n",
              "      border-right-color: var(--fill-color);\n",
              "    }\n",
              "    80% {\n",
              "      border-color: transparent;\n",
              "      border-right-color: var(--fill-color);\n",
              "      border-bottom-color: var(--fill-color);\n",
              "    }\n",
              "    90% {\n",
              "      border-color: transparent;\n",
              "      border-bottom-color: var(--fill-color);\n",
              "    }\n",
              "  }\n",
              "</style>\n",
              "\n",
              "      <script>\n",
              "        async function quickchart(key) {\n",
              "          const quickchartButtonEl =\n",
              "            document.querySelector('#' + key + ' button');\n",
              "          quickchartButtonEl.disabled = true;  // To prevent multiple clicks.\n",
              "          quickchartButtonEl.classList.add('colab-df-spinner');\n",
              "          try {\n",
              "            const charts = await google.colab.kernel.invokeFunction(\n",
              "                'suggestCharts', [key], {});\n",
              "          } catch (error) {\n",
              "            console.error('Error during call to suggestCharts:', error);\n",
              "          }\n",
              "          quickchartButtonEl.classList.remove('colab-df-spinner');\n",
              "          quickchartButtonEl.classList.add('colab-df-quickchart-complete');\n",
              "        }\n",
              "        (() => {\n",
              "          let quickchartButtonEl =\n",
              "            document.querySelector('#df-a504f133-50c6-4385-a99f-4f8886eb2975 button');\n",
              "          quickchartButtonEl.style.display =\n",
              "            google.colab.kernel.accessAllowed ? 'block' : 'none';\n",
              "        })();\n",
              "      </script>\n",
              "    </div>\n",
              "\n",
              "    </div>\n",
              "  </div>\n"
            ],
            "application/vnd.google.colaboratory.intrinsic+json": {
              "type": "dataframe",
              "variable_name": "data",
              "summary": "{\n  \"name\": \"data\",\n  \"rows\": 5169,\n  \"fields\": [\n    {\n      \"column\": \"result\",\n      \"properties\": {\n        \"dtype\": \"category\",\n        \"num_unique_values\": 2,\n        \"samples\": [\n          \"spam\",\n          \"ham\"\n        ],\n        \"semantic_type\": \"\",\n        \"description\": \"\"\n      }\n    },\n    {\n      \"column\": \"emails\",\n      \"properties\": {\n        \"dtype\": \"string\",\n        \"num_unique_values\": 5169,\n        \"samples\": [\n          \"Did u download the fring app?\",\n          \"Pass dis to all ur contacts n see wat u get! Red;i'm in luv wid u. Blue;u put a smile on my face. Purple;u r realy hot. Pink;u r so swt. Orange;i thnk i lyk u. Green;i realy wana go out wid u. Yelow;i wnt u bck. Black;i'm jealous of u. Brown;i miss you Nw plz giv me one color\"\n        ],\n        \"semantic_type\": \"\",\n        \"description\": \"\"\n      }\n    },\n    {\n      \"column\": \"Length\",\n      \"properties\": {\n        \"dtype\": \"number\",\n        \"std\": 58,\n        \"min\": 2,\n        \"max\": 910,\n        \"num_unique_values\": 274,\n        \"samples\": [\n          84,\n          177\n        ],\n        \"semantic_type\": \"\",\n        \"description\": \"\"\n      }\n    },\n    {\n      \"column\": \"num_words\",\n      \"properties\": {\n        \"dtype\": \"number\",\n        \"std\": 13,\n        \"min\": 1,\n        \"max\": 220,\n        \"num_unique_values\": 91,\n        \"samples\": [\n          95,\n          48\n        ],\n        \"semantic_type\": \"\",\n        \"description\": \"\"\n      }\n    },\n    {\n      \"column\": \"num_sentence\",\n      \"properties\": {\n        \"dtype\": \"number\",\n        \"std\": 1,\n        \"min\": 1,\n        \"max\": 38,\n        \"num_unique_values\": 16,\n        \"samples\": [\n          2,\n          1\n        ],\n        \"semantic_type\": \"\",\n        \"description\": \"\"\n      }\n    }\n  ]\n}"
            }
          },
          "metadata": {},
          "execution_count": 42
        }
      ]
    },
    {
      "cell_type": "code",
      "source": [
        "#Average length of spam and ham emails\n",
        "avg_length_spam = data[data['result'] == 'spam']['Length'].mean()\n",
        "avg_length_ham = data[data['result'] == 'ham']['Length'].mean()\n",
        "print(\"Average length of spam emails:\", avg_length_spam)\n",
        "print(\"Average length of ham emails:\", avg_length_ham)"
      ],
      "metadata": {
        "colab": {
          "base_uri": "https://localhost:8080/"
        },
        "id": "GOYaSTpKnVzJ",
        "outputId": "ecfd7d61-356c-41ba-9d03-036277d38305"
      },
      "execution_count": null,
      "outputs": [
        {
          "output_type": "stream",
          "name": "stdout",
          "text": [
            "Average length of spam emails: 137.89127105666157\n",
            "Average length of ham emails: 70.45925597874225\n"
          ]
        }
      ]
    },
    {
      "cell_type": "code",
      "source": [
        "\n",
        "#Average words of spam and ham emails\n",
        "average_words_spam=data[data['result']=='spam']['num_words'].mean()\n",
        "average_words_ham=data[data['result']=='ham']['num_words'].mean()\n",
        "print(\"Average words in spam emails:\",average_words_spam)\n",
        "print(\"Average words in ham emails:\",average_words_ham)\n",
        "\n"
      ],
      "metadata": {
        "colab": {
          "base_uri": "https://localhost:8080/"
        },
        "id": "ZFky8oazpZ_A",
        "outputId": "fb4c3c11-7eca-4f71-e7df-c433874a0d36"
      },
      "execution_count": null,
      "outputs": [
        {
          "output_type": "stream",
          "name": "stdout",
          "text": [
            "Average words in spam emails: 27.6676875957121\n",
            "Average words in ham emails: 17.12378210806023\n"
          ]
        }
      ]
    },
    {
      "cell_type": "code",
      "source": [
        "#Average Sentence for Spam and Ham\n",
        "average_sentence_spam=data[data['result']=='spam']['num_sentence'].mean()\n",
        "average_sentence_ham=data[data['result']=='ham']['num_sentence'].mean()\n",
        "\n",
        "print(\"Average sentence in spam emails:\",average_sentence_spam)\n",
        "print(\"Average sentence in ham emails:\",average_sentence_ham)\n"
      ],
      "metadata": {
        "colab": {
          "base_uri": "https://localhost:8080/"
        },
        "id": "37ESwCGmhFSZ",
        "outputId": "fb4f1aab-dfda-459d-fe88-9ef5ae5cfb79"
      },
      "execution_count": null,
      "outputs": [
        {
          "output_type": "stream",
          "name": "stdout",
          "text": [
            "Average sentence in spam emails: 2.970903522205207\n",
            "Average sentence in ham emails: 1.8201948627103632\n"
          ]
        }
      ]
    },
    {
      "cell_type": "code",
      "source": [
        "fig, axes = plt.subplots(1, 3, figsize=(8, 4))  # 1 row, 3 columns\n",
        "\n",
        "# Plot 1: Average Length\n",
        "axes[0].bar(['Spam', 'Ham'], [avg_length_spam, avg_length_ham], color=['Blue', 'green'])\n",
        "axes[0].set_title('Average Length of Emails')\n",
        "axes[0].set_xlabel('Email Type')\n",
        "axes[0].set_ylabel('Average Length')\n",
        "\n",
        "# Plot 2: Average Words\n",
        "axes[1].bar(['Spam', 'Ham'], [average_words_spam, average_words_ham], color=['blue', 'green'])\n",
        "axes[1].set_title('Average Words in Emails')\n",
        "axes[1].set_xlabel('Email Type')\n",
        "axes[1].set_ylabel('Average Words')\n",
        "\n",
        "# Plot 3: Average Sentences\n",
        "axes[2].bar(['Spam', 'Ham'], [average_sentence_spam, average_sentence_ham], color=['blue', 'green'])\n",
        "axes[2].set_title('Average Sentences in Emails')\n",
        "axes[2].set_xlabel('Email Type')\n",
        "axes[2].set_ylabel('Average Sentences')\n",
        "\n",
        "\n",
        "plt.tight_layout()  # Adjust spacing between subplots\n",
        "plt.show()\n"
      ],
      "metadata": {
        "colab": {
          "base_uri": "https://localhost:8080/",
          "height": 407
        },
        "id": "vD99QyITpaMO",
        "outputId": "a950d05b-ddaf-4c8d-adec-8df962b8ea5d"
      },
      "execution_count": null,
      "outputs": [
        {
          "output_type": "display_data",
          "data": {
            "text/plain": [
              "<Figure size 800x400 with 3 Axes>"
            ],
            "image/png": "[encoded data removed]"
          },
          "metadata": {}
        }
      ]
    },
    {
      "cell_type": "code",
      "source": [
        "#Relationship between Length and Spam\n",
        "correlation = data['Length'].corr((data['result'] == 'spam').astype(int))\n",
        "print(\"Correlation coefficient between email length and spam classification:\", correlation)\n"
      ],
      "metadata": {
        "colab": {
          "base_uri": "https://localhost:8080/"
        },
        "id": "Koe-xfnThEk-",
        "outputId": "00c9df36-0718-4dff-bf0d-82de3a3b69e1"
      },
      "execution_count": null,
      "outputs": [
        {
          "output_type": "stream",
          "name": "stdout",
          "text": [
            "Correlation coefficient between email length and spam classification: 0.38471706671430717\n"
          ]
        }
      ]
    },
    {
      "cell_type": "markdown",
      "source": [
        "As we found that there is a positive correlation (correlation coefficient: 0.38) between email length and spam classification. This means that, on average, spam emails tend to be slightly longer than non-spam emails. However, it’s important to note that the correlation is not very strong, indicating that other factors may also influence whether an email is classified as spam\n"
      ],
      "metadata": {
        "id": "boG6WCBdnZME"
      }
    },
    {
      "cell_type": "code",
      "source": [
        "#relstionship between features\n",
        "correlation_matrix = data[['Length', 'num_words', 'num_sentence']].corr()\n",
        "print(\"The Relationship between Features are \\n\",correlation_matrix )\n",
        "\n",
        "# Visualize the correlation matrix using a heatmap\n",
        "plt.figure(figsize=(8, 6))\n",
        "sns.heatmap(correlation_matrix, annot=True, cmap='coolwarm', fmt=\".2f\", linewidths=.5)\n",
        "plt.title('Correlation Matrix of Features')\n",
        "plt.xlabel('Features')\n",
        "plt.ylabel('Features')\n",
        "plt.show()"
      ],
      "metadata": {
        "colab": {
          "base_uri": "https://localhost:8080/",
          "height": 651
        },
        "id": "-gkLtFngnhQa",
        "outputId": "7e2c2254-4835-460e-ca90-4d76fcff6543"
      },
      "execution_count": null,
      "outputs": [
        {
          "output_type": "stream",
          "name": "stdout",
          "text": [
            "The Relationship between Features are \n",
            "                 Length  num_words  num_sentence\n",
            "Length        1.000000   0.965760      0.624139\n",
            "num_words     0.965760   1.000000      0.679971\n",
            "num_sentence  0.624139   0.679971      1.000000\n"
          ]
        },
        {
          "output_type": "display_data",
          "data": {
            "text/plain": [
              "<Figure size 800x600 with 2 Axes>"
            ],
            "image/png": "[encoded data removed]"
          },
          "metadata": {}
        }
      ]
    },
    {
      "cell_type": "markdown",
      "source": [
        "The correlation matrix indicates strong positive correlations between email length and the number of words (0.97) as well as between the number of words and the number of sentences (0.68). This suggests that longer emails tend to have more words, and emails with more words tend to have more sentences. However, the correlation between email length and the number of sentences is weaker (0.62). This implies that while longer emails may have more sentences, the relationship is not as strong as with the number of words.\n"
      ],
      "metadata": {
        "id": "yezC2gROoNFY"
      }
    },
    {
      "cell_type": "markdown",
      "source": [
        "**DATA PREPROCESSING**\n",
        "\n"
      ],
      "metadata": {
        "id": "DNvkEAaLoSBG"
      }
    },
    {
      "cell_type": "code",
      "source": [
        "data['transform_text'] = data['emails'].str.lower()#converting to lower case\n",
        "\n",
        "# Tokenization\n",
        "data['transform_text'] = data['transform_text'].apply(word_tokenize)\n",
        "\n",
        "# Removing special characters\n",
        "data['transform_text'] = data['transform_text'].apply(lambda x: [re.sub(r'[^a-zA-Z0-9\\s]', '', word) for word in x])\n",
        "\n",
        "# Removing stop words and punctuation\n",
        "stop_words = set(stopwords.words('english'))\n",
        "data['transform_text'] = data['transform_text'].apply(lambda x: [word for word in x if word not in stop_words and word not in string.punctuation])\n",
        "\n",
        "# Stemming\n",
        "ps = PorterStemmer()\n",
        "data['transform_text'] = data['transform_text'].apply(lambda x: [ps.stem(word) for word in x])\n",
        "\n",
        "# Convert the preprocessed text back to string\n",
        "data['transform_text'] = data['transform_text'].apply(lambda x: ' '.join(x))\n",
        "\n",
        "# Display the preprocessed data\n",
        "print(data[['emails', 'transform_text']].head())"
      ],
      "metadata": {
        "colab": {
          "base_uri": "https://localhost:8080/"
        },
        "id": "b8dmQk0QoRts",
        "outputId": "269bb995-a0d8-4e15-c9fc-ea009353a175"
      },
      "execution_count": null,
      "outputs": [
        {
          "output_type": "stream",
          "name": "stdout",
          "text": [
            "                                              emails  \\\n",
            "0  Go until jurong point, crazy.. Available only ...   \n",
            "1                      Ok lar... Joking wif u oni...   \n",
            "2  Free entry in 2 a wkly comp to win FA Cup fina...   \n",
            "3  U dun say so early hor... U c already then say...   \n",
            "4  Nah I don't think he goes to usf, he lives aro...   \n",
            "\n",
            "                                      transform_text  \n",
            "0  go jurong point crazi avail bugi n great world...  \n",
            "1                              ok lar joke wif u oni  \n",
            "2  free entri 2 wkli comp win fa cup final tkt 21...  \n",
            "3                u dun say earli hor u c alreadi say  \n",
            "4            nah nt think goe usf live around though  \n"
          ]
        }
      ]
    },
    {
      "cell_type": "code",
      "source": [
        "spam_emails = data[data['result'] == 'spam']['transform_text']\n",
        "spam_emails\n"
      ],
      "metadata": {
        "colab": {
          "base_uri": "https://localhost:8080/",
          "height": 458
        },
        "id": "isCKeeuf2tKu",
        "outputId": "8a6b030f-2e6f-450b-bccc-951e69adcd09"
      },
      "execution_count": null,
      "outputs": [
        {
          "output_type": "execute_result",
          "data": {
            "text/plain": [
              "2       free entri 2 wkli comp win fa cup final tkt 21...\n",
              "5       freemsg hey darl 3 week word back like fun sti...\n",
              "8       winner valu network custom select receivea 900...\n",
              "9       mobil 11 month u r entitl updat latest colour ...\n",
              "11      six chanc win cash 100 20000 pound txt csh11 s...\n",
              "                              ...                        \n",
              "5537    want explicit sex 30 sec ring 02073162414 cost...\n",
              "5540    ask 3mobil 0870 chatlin inclu free min india c...\n",
              "5547    contract mobil 11 mnth latest motorola nokia e...\n",
              "5566    remind o2 get 250 pound free call credit detai...\n",
              "5567    2nd time tri 2 contact u u 750 pound prize 2 c...\n",
              "Name: transform_text, Length: 653, dtype: object"
            ],
            "text/html": [
              "<div>\n",
              "<style scoped>\n",
              "    .dataframe tbody tr th:only-of-type {\n",
              "        vertical-align: middle;\n",
              "    }\n",
              "\n",
              "    .dataframe tbody tr th {\n",
              "        vertical-align: top;\n",
              "    }\n",
              "\n",
              "    .dataframe thead th {\n",
              "        text-align: right;\n",
              "    }\n",
              "</style>\n",
              "<table border=\"1\" class=\"dataframe\">\n",
              "  <thead>\n",
              "    <tr style=\"text-align: right;\">\n",
              "      <th></th>\n",
              "      <th>transform_text</th>\n",
              "    </tr>\n",
              "  </thead>\n",
              "  <tbody>\n",
              "    <tr>\n",
              "      <th>2</th>\n",
              "      <td>free entri 2 wkli comp win fa cup final tkt 21...</td>\n",
              "    </tr>\n",
              "    <tr>\n",
              "      <th>5</th>\n",
              "      <td>freemsg hey darl 3 week word back like fun sti...</td>\n",
              "    </tr>\n",
              "    <tr>\n",
              "      <th>8</th>\n",
              "      <td>winner valu network custom select receivea 900...</td>\n",
              "    </tr>\n",
              "    <tr>\n",
              "      <th>9</th>\n",
              "      <td>mobil 11 month u r entitl updat latest colour ...</td>\n",
              "    </tr>\n",
              "    <tr>\n",
              "      <th>11</th>\n",
              "      <td>six chanc win cash 100 20000 pound txt csh11 s...</td>\n",
              "    </tr>\n",
              "    <tr>\n",
              "      <th>...</th>\n",
              "      <td>...</td>\n",
              "    </tr>\n",
              "    <tr>\n",
              "      <th>5537</th>\n",
              "      <td>want explicit sex 30 sec ring 02073162414 cost...</td>\n",
              "    </tr>\n",
              "    <tr>\n",
              "      <th>5540</th>\n",
              "      <td>ask 3mobil 0870 chatlin inclu free min india c...</td>\n",
              "    </tr>\n",
              "    <tr>\n",
              "      <th>5547</th>\n",
              "      <td>contract mobil 11 mnth latest motorola nokia e...</td>\n",
              "    </tr>\n",
              "    <tr>\n",
              "      <th>5566</th>\n",
              "      <td>remind o2 get 250 pound free call credit detai...</td>\n",
              "    </tr>\n",
              "    <tr>\n",
              "      <th>5567</th>\n",
              "      <td>2nd time tri 2 contact u u 750 pound prize 2 c...</td>\n",
              "    </tr>\n",
              "  </tbody>\n",
              "</table>\n",
              "<p>653 rows × 1 columns</p>\n",
              "</div><br><label><b>dtype:</b> object</label>"
            ]
          },
          "metadata": {},
          "execution_count": 50
        }
      ]
    },
    {
      "cell_type": "code",
      "source": [
        "spam_words = ' '.join(spam_emails)\n",
        "spam_words"
      ],
      "metadata": {
        "colab": {
          "base_uri": "https://localhost:8080/",
          "height": 140
        },
        "id": "8aQi4-AmJ9jl",
        "outputId": "9bad2fd9-f8d7-469a-c72f-17cc294d0050"
      },
      "execution_count": null,
      "outputs": [
        {
          "output_type": "execute_result",
          "data": {
            "text/plain": [
              "'free entri 2 wkli comp win fa cup final tkt 21st may 2005 text fa 87121 receiv entri question std txt rate c appli 08452810075over18 freemsg hey darl 3 week word back like fun still tb ok xxx std chg send 150 rcv winner valu network custom select receivea 900 prize reward claim call 09061701461 claim code kl341 valid 12 hour mobil 11 month u r entitl updat latest colour mobil camera free call mobil updat co free 08002986030 six chanc win cash 100 20000 pound txt csh11 send 87575 cost 150pday 6day 16 tsandc appli repli hl 4 info urgent 1 week free membership 100000 prize jackpot txt word claim 81010 c wwwdbuknet lccltd pobox 4403ldnw1a7rw18 xxxmobilemovieclub use credit click wap link next txt messag click http wap xxxmobilemovieclubcom nqjkgighjjgcbl england v macedonia dont miss goalsteam news txt ur nation team 87077 eg england 87077 tri wale scotland 4txt120 poboxox36504w45wq 16 thank subscript rington uk mobil charg 5month pleas confirm repli ye repli charg 07732584351 rodger burn msg tri call repli sm free nokia mobil free camcord pleas call 08000930705 deliveri tomorrow sm ac sptv new jersey devil detroit red wing play ice hockey correct incorrect end repli end sptv congrat 1 year special cinema pass 2 call 09061209465 c suprman v matrix3 starwars3 etc 4 free bx420ip45w 150pm dont miss valu custom pleas advis follow recent review mob award 1500 bonu prize call 09066364589 urgent ur award complimentari trip eurodisinc trav aco entry41 1000 claim txt di 87121 186 150 morefrmmob shracomorsglsuplt 10 ls1 3aj hear new divorc barbi come ken stuff pleas call custom servic repres 0800 169 6031 10am9pm guarante 1000 cash 5000 prize free rington wait collect simpli text password mix 85069 verifi get usher britney fml gent tri contact last weekend draw show 1000 prize guarante call 09064012160 claim code k52 valid 12hr 150ppm winner u special select 2 receiv 1000 4 holiday flight inc speak live oper 2 claim 0871277810910pmin 18 privat 2004 account statement 07742676969 show 786 unredeem bonu point claim call 08719180248 identifi code 45239 expir urgent mobil award 2000 bonu caller prize 5903 final tri contact u call landlin 09064019788 box42wr29c 150ppm today voda number end 7548 select receiv 350 award match pleas call 08712300220 quot claim code 4041 standard rate app sunshin quiz wkli q win top soni dvd player u know countri algarv txt ansr 82277 150 sp tyron want 2 get laid tonight want real dog locat sent direct 2 ur mob join uk largest dog network bt txting gravel 69888 nt ec2a 31pmsg 150p rcv msg chat svc free hardcor servic text go 69988 u get noth u must age verifi yr network tri freemsg nt repli text randi sexi femal live local luv hear u netcollex ltd 08700621170150p per msg repli stop end custom servic annonc new year deliveri wait pleas call 07046744435 arrang deliveri winner u special select 2 receiv 1000 cash 4 holiday flight inc speak live oper 2 claim 0871277810810 pl stop bootydeli 32f invit friend repli yes434 no434 see wwwsmsacubootydeli stop send stop frnd 62468 bangbab ur order way u receiv servic msg 2 download ur content u goto wap bangb tv ur mobil internetservic menu urgent tri contact last weekend draw show 900 prize guarante call 09061701939 claim code s89 valid 12hr pleas call custom servic repres freephon 0808 145 4742 9am11pm guarante 1000 cash 5000 prize uniqu enough find 30th august wwwareyouuniquecouk 500 new mobil 2004 must go txt nokia 89545 collect today 1 www4tcbiz 2optout 08718726270150gbpmtmsg18 u meet ur dream partner soon ur career 2 flyng start 2 find free txt horo follow ur star sign e g horo ari text meet someon sexi today u find date even flirt u join 4 10p repli name age eg sam 25 18 msg recd thirtyeight penc u 447801259231 secret admir look 2 make contact ufind r reveal think ur specialcal 09058094597 congratul ur award 500 cd voucher 125gift guarante free entri 2 100 wkli draw txt music 87066 tnc wwwldewcom1win150ppmx3age16 tri contact repli offer video handset 750 anytim network min unlimit text camcord repli call 08000930705 hey realli horni want chat see nake text hot 69698 text charg 150pm unsubscrib text stop 69698 ur rington servic chang 25 free credit go club4mobilescom choos content stop txt club stop 87070 150pwk club4 po box1146 mk45 2wt rington club get uk singl chart mobil week choos top qualiti rington messag free charg hmv bonu special 500 pound genuin hmv voucher answer 4 easi question play send hmv 86688 info www100percentrealcom tmobil custom may claim free camera phone upgrad pay go sim card loyalti call 0845 021 3680offer end 28thfebt c appli sm ac blind date 4u rodds1 21m aberdeen unit kingdom check http img sm acwicmb3cktz8r7 4 blind date send hide themob check newest select content game tone gossip babe sport keep mobil fit funki text wap 82468 think ur smart win 200 week weekli quiz text play 85222 cs winnersclub po box 84 m26 3uz 16 gbp150week decemb mobil 11mth entitl updat latest colour camera mobil free call mobil updat co free 08002986906 call germani 1 penc per minut call fix line via access number 0844 861 85 85 prepay direct access valentin day special win 1000 quiz take partner trip lifetim send go 83600 150pmsg rcvd custcare08718720201 fanci shag dointerest sextextukcom txt xxuk suzi 69876 txt cost 150 per msg tnc websit x ur cashbal current 500 pound maxim ur cashin send cash 86688 150pmsg cc 08708800282 hgsuite3422land roww1j6hl updatenow xma offer latest motorola sonyericsson nokia free bluetooth doubl min 1000 txt orang call mobileupd8 08000839402 call2optoutf4q discount code rp176781 stop messag repli stop wwwregalportfoliocouk custom servic 08717205546 thank rington order refer t91 charg gbp 4 per week unsubscrib anytim call custom servic 09057039994 doubl min txt 4 6month free bluetooth orang avail soni nokia motorola phone call mobileupd8 08000839402 call2optoutn9dx 4mth half price orang line rental latest camera phone 4 free phone 11mth call mobilesdirect free 08000938767 updat or2stoptxt free rington text first 87131 poli text get 87131 true tone help 0845 2814032 16 1st free tone 3x150pw end txt stop 100 date servic cal l 09064012103 box334sk38ch free entri 250 weekli competit text word win 80086 18 c wwwtxttowincouk send logo 2 ur lover 2 name join heart txt love name1 name2 mobno eg love adam eve 07123456789 87077 yahoo pobox36504w45wq txtno 4 ad 150p someon contact date servic enter phone fanci find call landlin 09111032124 pobox12n146tf150p urgent mobil number award 2000 prize guarante call 09058094455 land line claim 3030 valid 12hr congrat nokia 3650 video camera phone call 09066382422 call cost 150ppm ave call 3min vari mobil 16 close 300603 post bcm4284 ldn wc1n3xx loan purpos 500 75000 homeown tenant welcom previous refus still help call free 0800 1956669 text back help upgrdcentr orang custom may claim free camera phone upgrad loyalti call 0207 153 9153 offer end 26th juli c appli optout avail okmail dear dave final notic collect 4 tenerif holiday 5000 cash award call 09061743806 landlin tc sae box326 cw25wx 150ppm want 2 get laid tonight want real dog locat sent direct 2 ur mob join uk largest dog network txting moan 69888nyt ec2a 31pmsg 150p free messag activ 500 free text messag repli messag word free term condit visit www07781482378com congrat 1 year special cinema pass 2 call 09061209465 c suprman v matrix3 starwars3 etc 4 free bx420ip45w 150pm dont miss 123 congratul week competit draw u 1450 prize claim call 09050002311 b4280703 csstop sm 08718727868 18 150ppm guarante latest nokia phone 40gb ipod mp3 player 500 prize txt word collect 83355 ibhltd ldnw15h 150pmtmsgrcvd18 boltblu tone 150p repli poli mono eg poly3 1 cha cha slide 2 yeah 3 slow jamz 6 toxic 8 come stop 4 tone txt credit top http wwwbubbletextcom renew pin tgxxrz urgent mobil award 2000 bonu caller prize 020903 2nd attempt contact call 08718729755 box95qu today offer claim ur 150 worth discount voucher text ye 85023 savamob member offer mobil cs 08717898035 300 sub 16 unsub repli x reciev tone within next 24hr term condit pleas see channel u teletext pg 750 privat 2003 account statement 07815296484 show 800 unredeem sim point call 08718738001 identifi code 41782 expir 181104 wwwapplausestorecom monthlysubscript 50pmsg max6month csc web age16 2stop txt stop gent tri contact last weekend draw show 1000 prize guarante call 09064012160 claim code k52 valid 12hr 150ppm 1000 cash 2000 prize claim call09050000327 mobil number 5000 claim call us back ring claim hot line 09050005321 tri contact repli offer 750 min 150 textand new video phone call 08002988890 repli free deliveri tomorrow ur chanc win 250 wkli shop spree txt shop 80878 c wwwtxt2shopcom custcar 08715705022 1x150pwk special select receiv 2000 pound award call 08712402050 line close cost 10ppm 16 cs appli ag promo privat 2003 account statement 07753741225 show 800 unredeem point call 08715203677 identifi code 42478 expir 241004 import custom servic announc call freephon 0800 542 0825 xclusiv clubsaisai 2morow 285 soire special zouk nichol parisfre rose 2 ladi info 0794674629107880867867 22 day kick euro2004 u kept date latest news result daili remov send get txt stop 83222 new textbuddi chat 2 horni guy ur area 4 25p free 2 receiv search postcod gaytextbuddycom txt one name 89693 today vodafon number end 4882 select receiv 350 award number match call 09064019014 receiv 350 award dear voucher holder 2 claim week offer pc go http wwwetlpcoukexpressoff ts cs apply2 stop text txt stop 80062 privat 2003 account statement show 800 unredeem point call 08715203694 identifi code 40533 expir 311004 1000 cash 2000 prize claim call09050000327 c rstm sw7 3ss 150ppm 88800 89034 premium phone servic call 08718711108 sm ac sun0819 post hello seem cool get ur 1st rington free repli msg tone gr8 top 20 tone phone everi week 150 per wk 2 opt send stop 08452810071 16 hi sue 20 year old work lapdanc love sex text live bedroom text sue 89555 textoper g2 1da 150ppmsg 18 forward 448712404000 pleas call 08712404000 immedi urgent messag wait review keep fantast nokia ngage game deck club nokia go 2 wwwcnupdatescomnewslett unsubscrib alert repli word 4mth half price orang line rental latest camera phone 4 free phone 11mth call mobilesdirect free 08000938767 updat or2stoptxt cs 08714712388 10am7pm cost 10p 449071512431 urgent 2nd attempt contact u u 1250 call 09071512433 b4 050703 csbcm4235wc1n3xx callcost 150ppm mobilesvari max7 50 guarante 1000 cash 2000 prize claim yr prize call custom servic repres 08714712394 10am7pm email alertfrom jeri stewarts 2kbsubject lowcost prescripiton drvgsto listen email call 123 hi custom loyalti offer new nokia6650 mobil 10 txtauction txt word start 81151 get 4t ctxt tc 150pmtmsg u subscrib best mobil content servic uk 3 per 10 day send stop 82324 helplin 08706091795 realiz 40 year thousand old ladi run around tattoo import custom servic announc premier romant pari 2 night 2 flight 79 book 4 next year call 08704439680t cs appli urgent ur 500 guarante award still unclaim call 09066368327 closingdate040902 claimcod m39m51 150pmmorefrommobile2bremovedmobypobox734ls27yf ur award citi break could win 200 summer shop spree everi wk txt store 88039 skilgm tscs087147403231winawk age16 150perwksub import custom servic announc premier call freephon 0800 542 0578 ever thought live good life perfect partner txt back name age join mobil commun 100psm 5 free top polyphon tone call 087018728737 nation rate get toppoli tune sent everi week text subpoli 81618 3 per pole unsub 08718727870 orang custom may claim free camera phone upgrad loyalti call 0207 153 9996 offer end 14thmarch c appli optout availa last chanc claim ur 150 worth discount voucher today text shop 85023 savamob offer mobil cs savamob pobox84 m263uz 300 sub 16 free 1st week no1 nokia tone 4 ur mobil everi week txt nokia 8077 get txting tell ur mate wwwgetzedcouk pobox 36504 w45wq 16 norm150pton guarante 200 award even 1000 cashto claim ur award call free 08000407165 18 2 stop getstop 88222 php rg21 4jx congratul ur award either 500 cd gift voucher free entri 2 100 weekli draw txt music 87066 tnc wwwldewcom1win150ppmx3age16 u outbid simonwatson5120 shinco dvd plyr 2 bid visit sm acsmsreward 2 end bid notif repli end smsservic yourinclus text credit pl goto wwwcomuknet login 3qxj9 unsubscrib stop extra charg help 08702840625comuk 220cm2 9ae 25p 4 alfi moon children need song ur mob tell ur m8 txt tone chariti 8007 nokia poli chariti poli zed 08701417012 profit 2 chariti u secret admir reveal think u r special call 09065174042 opt repli reveal stop 150 per msg recd cust care 07821230901 dear voucher holder claim week offer pc pleas go http wwwetlpcoukexpressoff ts cs appli stop text txt stop 80062 want 750 anytim network min 150 text new video phone five pound per week call 08002888812 repli deliveri tomorrow tri contact offer new video phone 750 anytim network min half price rental camcord call 08000930705 repli deliveri wed last chanc 2 claim ur 150 worth discount voucherstext ye 85023 savamobmemb offer mobil cs 08717898035 300 sub 16 remov txt x stop urgent call 09066350750 landlin complimentari 4 ibiza holiday 10000 cash await collect sae cs po box 434 sk3 8wp 150 ppm 18 talk sexi make new friend fall love world discreet text date servic text vip 83110 see could meet congratul ur award either yr suppli cd virgin record mysteri gift guarante call 09061104283 ts cs wwwsmsconet 150pm approx 3min privat 2003 account statement 07808 xxxxxx show 800 unredeem point call 08719899217 identifi code 41685 expir 071104 hello need posh bird chap user trial prod champney put need address dob asap ta r u want xma 100 free text messag new video phone half price line rental call free 0800 0721072 find shop till u drop either 10k 5k 500 cash 100 travel voucher call 09064011000 ntt po box cr01327bt fixedlin cost 150ppm mobil vari sunshin quiz wkli q win top soni dvd player u know countri liverpool play mid week txt ansr 82277 150 sp tyron u secret admir look 2 make contact ufind r reveal think ur specialcal 09058094565 u secret admir look 2 make contact ufind r reveal think ur specialcal 09065171142stopsms08 remind download content alreadi paid goto http doit mymobi tv collect content lastest stereophon marley dizze racal libertin stroke win nookii game flirt click themob wap bookmark text wap 82468 januari male sale hot gay chat cheaper call 08709222922 nation rate 15pmin cheap 78pmin peak stop text call 08712460324 10pmin money r lucki winner 2 claim prize text money 2 88600 1million give away ppt150x3normal text rate box403 w1t1ji dear matthew pleas call 09063440451 landlin complimentari 4 lux tenerif holiday 1000 cash await collect ppm150 sae cs box334 sk38xh urgent call 09061749602 landlin complimentari 4 tenerif holiday 10000 cash await collect sae cs box 528 hp20 1yf 150ppm 18 get touch folk wait compani txt back name age opt enjoy commun 150psm ur cashbal current 500 pound maxim ur cashin send go 86688 150pmsg cc 08718720201 po box 11414 tcrw1 filthi stori girl wait urgent tri contact u today draw show 800 prize guarante call 09050001808 land line claim m95 valid12hr congrat 2 mobil 3g videophon r call 09063458130 videochat wid mate play java game dload polyph music nolin rentl panason bluetoothhdset free nokia free motorola free doublemin doubletxt orang contract call mobileupd8 08000839402 call 2optout free 1st week no1 nokia tone 4 ur mob everi week txt nokia 8007 get txting tell ur mate wwwgetzedcouk pobox 36504 w45wq norm150pton 16 guess somebodi know secretli fanci wan na find give us call 09065394514 landlin datebox1282essexcm61xn 150pmin 18 know someon know fanci call 09058097218 find pobox 6 ls15hb 150p 1000 flirt txt girl bloke ur name age eg girl zoe 18 8007 join get chat 18 day euro2004 kickoff u kept inform latest news result daili unsubscrib send get euro stop 83222 eastend tv quiz flower dot compar violet e tulip f lili txt e f 84025 4 chanc 2 win 100 cash wkent150p16 new local date area lot new peopl regist area repli date start 18 wwwflirtpartyu replys150 someon u know ask date servic 2 contact cant guess call 09058091854 reveal po box385 m6 6wu urgent tri contact u today draw show 800 prize guarante call 09050003091 land line claim c52 valid12hr dear u invit xchat final attempt contact u txt chat 86688 award sipix digit camera call 09061221061 landlin deliveri within 28day cs box177 m221bp 2yr warranti 150ppm 16 p p399 win urgent mobil number award 2000 prize guarante call 09061790121 land line claim 3030 valid 12hr 150ppm dear subscrib ur draw 4 100 gift voucher b enter receipt correct an elvi presley birthday txt answer 80062 messag import inform o2 user today lucki day 2 find log onto http wwwurawinnercom fantast surpris await 449050000301 2000 price claim call 09050000301 bore speed date tri speedchat txt speedchat 80155 nt like em txt swap get new chatter chat80155 pobox36504w45wq 150pmsg rcd 16 want 750 anytim network min 150 text new video phone five pound per week call 08000776320 repli deliveri tomorrow take part mobil survey yesterday 500 text 2 use howev wish 2 get txt send txt 80160 c wwwtxt43com 150p ur hmv quiz cashbal current 500 maxim ur cashin send hmv1 86688 150pmsg dont forget place mani free request 1stchoicecouk wish inform call 08707808226 nt know u u nt know send chat 86688 let find 150pmsg rcvd hgsuite3422landsroww1j6hl ldn 18 year thank winner notifi sm good luck futur market repli stop 84122 custom servic 08450542832 1000 girl mani local 2 u r virgin 2 r readi 2 4fil ur everi sexual need u 4fil text cute 69911 150p got take 2 take part wrc ralli oz u lucozad energi text ralli le 61200 25p see pack lucozadecoukwrc itcould u sex ur mobil free sexi pic jordan text babe 88600 everi wk get sexi celeb pocketbabecouk 4 pic 16 3wk 087016248 1 new voicemail pleas call 08719181503 win year suppli cd 4 store ur choic worth 500 enter 100 weekli draw txt music 87066 ts cs wwwldewcomsubs161win150ppmx3 sim subscrib select receiv bonu get deliv door txt word ok 88600 claim 150pmsg exp 30apr 1 new voicemail pleas call 08719181513 1 nokia tone 4 ur mob everi week txt nok 87021 1st tone free get txtin tell ur friend 150ptone 16 repli hl 4info repli name address receiv post week complet free accommod variou global locat wwwphb1com ph08700435505150p free entri 250 weekli comp send word enter 84128 18 c wwwtextcompcom cust care 08712405020 pleas call 08712402779 immedi urgent messag wait hungri gay guy feel hungri 4 call 08718730555 10pmin stop text call 08712460324 10pmin u get 2 phone wan na chat 2 set meet call 09096102316 u cum 2moro luv jane xx calls1minmoremobsemspobox45po139wa network oper servic free c visit 80488biz enjoy jamster videosound gold club credit 2 new videosounds2 logosmusicnew get fun jamstercouk 16onli help call 09701213186 get 3 lion england tone repli lionm 4 mono lionp 4 poli 4 go 2 wwwringtonescouk origin n best tone 3gbp network oper rate appli win newest harri potter order phoenix book 5 repli harri answer 5 question chanc first among reader ur balanc 500 ur next question sang uptown girl 80 2 answer txt ur answer 83600 good luck free2day sexi st georg day pic jordan txt pic 89080 dont miss everi wk sauci celeb 4 pic c pocketbabecouk 0870241182716 3wk hot live fantasi call 08707509020 20p per min ntt ltd po box 1327 croydon cr9 5wb 0870 k bear pic nick tom pete dick fact type tri gay chat photo upload call 08718730666 10pmin 2 stop text call 08712460324 500 new mobil 2004 must go txt nokia 89545 collect today 1 www4tcbiz 2optout 08718726270150gbpmtmsg18 txtauction doubl min doubl txt 12 price linerent latest orang bluetooth mobil call mobileupd8 latest offer 08000839402 call2optoutlf56 urgent import inform o2 user today lucki day 2 find log onto http wwwurawinnercom fantast surpris await dear u invit xchat final attempt contact u txt chat 86688 150pmsgrcvdhgsuite3422landsroww1j6hl ldn 18 yr congratul ur award either 500 cd gift voucher free entri 2 100 weekli draw txt music 87066 tnc wwwldewcom 1 win150ppmx3age16 sale arsen dartboard good condit doubl trebl free 1st week entri 2 textpod 4 chanc 2 win 40gb ipod 250 cash everi wk txt pod 84128 ts cs wwwtextpodnet custcar 08712405020 regist optin subscrib ur draw 4 100 gift voucher enter receipt correct an 80062 what no1 bbc chart summer final fanci chat flirt sexi singl yr area get match repli summer free 2 join optout txt stop help08714742804 clair havin borin time alon u wan na cum 2nite chat 09099725823 hope 2 c u luv clair xx calls1minmoremobsemspobox45po139wa bought one rington get text cost 3 pound offer tone etc 09066362231 urgent mobil 07xxxxxxxxx 2000 bonu caller prize 020603 2nd attempt reach call 09066362231 asap 07801543489 guarante latest nokia phone 40gb ipod mp3 player 500 prize txt word collect no83355 tcllc nyusa 150pmt msgrcvd18 hi luci hubbi meetin day fri b alon hotel u fanci cumin pl leav msg 2day 09099726395 luci x calls1minmobsmorelkpobox177hp51fl account credit 500 free text messag activ txt word credit 80488 cs www80488biz sm ac jsco energi high u may know 2channel 2day ur leadership skill r strong psychic repli an wquestion end repli end jsco hot live fantasi call 08707509020 20p per min ntt ltd po box 1327 croydon cr9 5wb 0870 nation rate call thank vote sing along star karaok mobil free link repli sing brand new mobil music servic live free music player arriv shortli instal phone brows content top artist urgent mobil award 2000 bonu caller prize 10803 2nd attempt contact call 08714719523 box95qu bt nation rate nokia 7250i get win free auction take part send nokia 86021 hgsuite3422land roww1jhl 16 hello orang 1 month free access game news sport plu 10 free text 20 photo messag repli ye term appli wwworangecoukow ur cashbal current 500 pound maxim ur cashin send go 86688 150pmsg cc 08718720201 hgsuite3422land roww1j6hl sm auction brand new nokia 7250 4 auction today auction free 2 join take part txt nokia 86021 hgsuite3422land roww1j6hl privat 2003 account statement show 800 unredeem point call 08719899230 identifi code 41685 expir 071104 regist subscrib yr draw 4 100 gift voucher b enter receipt correct an next olymp txt an 80062 urgent mobil number award 2000 prize guarante call 09061790121 land line claim 3030 valid 12hr 150ppm rtking pro video club need help info ringtonekingcouk call 08701237397 must 16 club credit redeem wwwringtonekingcouk enjoy u secret admir look 2 make contact ufind r reveal think ur specialcal 09058094599 500 free text msg text ok 80488 credit account select stay 1 250 top british hotel noth holiday worth 350 claim call london 02072069400 bx 526 sw73ss eeri nokia tone 4u rpli tone titl 8007 eg tone dracula 8007 titl ghost addamsfa munster exorcist twilight wwwgetzedcouk pobox36504w45wq 150p 0a network allow compani bill sm respons supplier freemsg feelin kinda lnli hope u like 2 keep compani jst got cam mobi wan na c pic txt repli date 82242 msg150p 2rcv hlp 08712317606 stop 82242 ur chanc win 250 cash everi wk txt action 80608 c wwwmovietriviatv custcar 08712405022 1x150pwk rgent 2nd attempt contact u u 1250 call 09071512433 b4 050703 csbcm4235wc1n3xx callcost 150ppm mobilesvari max7 50 hi ur lookin 4 sauci daytim fun wiv busti marri woman free next week chat 2 sort time 09099726429 janinexx calls1minmobsmorelkpobox177hp51fl urgent tri contact u today draw show 800 prize guarante call 09050001295 land line claim a21 valid 12hr monthli password wap mobsicom 391784 use wap phone pc today vodafon number end 0089 last four digit select receiv 350 award number match pleas call 09063442151 claim 350 award free top rington sub weekli ringtoneget 1st week freesend subpoli 81618 3 per weekstop sms08718727870 free msg sorri servic order 81303 could deliv suffici credit pleas top receiv servic hard live 121 chat 60pmin choos girl connect live call 09094646899 cheap chat uk biggest live servic vu bcm1896wc1n3xx wow boy r back take 2007 uk tour win vip ticket prebook vip club txt club 81303 trackmarqu ltd info vipclub4u hi mandi sullivan call hotmix fm chosen receiv 500000 easter prize draw pleas telephon 09041940223 claim 290305 prize transfer someon els ur go 2 bahama callfreefon 08081560665 speak live oper claim either bahama cruis of2000 cash 18onli opt txt x 07786200117 someon conact date servic enter phone fanci find call landlin 09111030116 pobox12n146tf15 hi 07734396839 ibh custom loyalti offer new nokia6600 mobil 10 txtauction txt word start no81151 get 4t sm auction nokia 7250i get win free auction take part send nokia 86021 hgsuite3422land roww1jhl 16 call freephon 0800 542 0578 buy space invad 4 chanc 2 win orig arcad game consol press 0 game arcad std wap charg see o2coukgam 4 term set purchas big brother alert comput select u 10k cash 150 voucher call 09064018838 ntt po box cro1327 18 bt landlin cost 150ppm mobil vari win winner mr foley ipod excit prize soon keep eye ur mobil visit wwwwin82050couk today voda number end 1225 select receiv 50award match pleas call 08712300220 quot claim code 3100 standard rate app hottest pic straight phone see get wet want xx text pic 89555 txt cost 150p textoper g696ga 18 xxx hack chat get backdoor entri 121 chat room fraction cost repli neo69 call 09050280520 subscrib 25p pm dp bcm box 8027 ldn wc1n3xx free nokia motorola upto 12mth 12price linerent 500 free xnet min 100txtmth free btooth call mobileupd8 08001950382 call 2optoutd3wv 2nd time tri 2 contact u u 750 pound prize 2 claim easi call 08718726970 10p per min btnationalr guarante 1000 cash 2000 prizeto claim yr prize call custom servic repres would like see xxx pic hot nearli ban uk u secret admir look 2 make contact ufind r reveal think ur specialcal 09058094594 dear 0776xxxxxxx u invit xchat final attempt contact u txt chat 86688 150pmsgrcvdhgsuite3422landsroww1j6hl ldn 18yr urgent pleas call 09061743811 landlin abta complimentari 4 tenerif holiday 5000 cash await collect sae cs box 326 cw25wx 150ppm call 09090900040 listen extrem dirti live chat go offic right total privaci one know sic listen 60p min 247mp 0870753331018 freemsg hey u got 1 videop fone repli wild txt ill send u pic hurri im bore work xxx 18 150prcvd stop2stop free entri 2 weekli comp chanc win ipod txt pod 80182 get entri std txt rate c appli 08452810073 detail 18 new textbuddi chat 2 horni guy ur area 4 25p free 2 receiv search postcod gaytextbuddycom txt one name 89693 08715500022 rpl stop 2 cnl call 08702490080 tell u 2 call 09066358152 claim 5000 prize u 2 enter ur mobil person detail prompt care free 1st week entri 2 textpod 4 chanc 2 win 40gb ipod 250 cash everi wk txt vpod 81303 ts cs wwwtextpodnet custcar 08712405020 peopl dog area call 09090204448 join like mind guy arrang 1 1 even a150 minapn ls278bb well done 4 costa del sol holiday 5000 await collect call 09050090044 toclaim sae tc pobox334 stockport sk38xh cost150pm max10min guess somebodi know secretli fanci wan na find give us call 09065394973 landlin datebox1282essexcm61xn 150pmin 18 80488 500 free text messag valid 31 decemb 2005 guarante 200 award even 1000 cashto claim ur award call free 08000407165 18 2 stop getstop 88222 php repli win 100 weekli 2006 fifa world cup held send stop 87239 end servic urgent pleas call 09061743810 landlin abta complimentari 4 tenerif holiday 5000 cash await collect sae cs box 326 cw25wx 150 ppm free tone hope enjoy new content text stop 61610 unsubscrib help08712400602450p provid tones2youcouk themob yo yo yoher come new select hot download member get free click open next link sent ur fone great news call freefon 08006344447 claim guarante 1000 cash 2000 gift speak live oper u win 100 music gift voucher everi week start txt word draw 87066 tsc wwwldewcom skillgame1winaweek age16150ppermesssubscript call 09094100151 use ur min call cast 10pmin mob vari servic provid aom gbp5month aom box61 m60 1er u stop age 18 urgent mobil 2000 bonu caller prize 020603 2nd attempt reach call 09066362220 asap box97n7qp 150ppm eeri nokia tone 4u rpli tone titl 8007 eg tone dracula 8007 titl ghost addamsfa munster exorcist twilight wwwgetzedcouk pobox36504w45wq 150p sexi singl wait text age follow gender wither f eg23f gay men text age follow g eg23g freemsg claim ur 250 sm messagestext ok 84025 use web2mobil 2 ur mate etc join txt250com 150pwk c box139 la32wu 16 remov txtx stop 85233 free rington repli real well done england get offici poli rington colour flag yer mobil text tone flag 84199 optout txt eng stop box39822 w111wx 150 final chanc claim ur 150 worth discount voucher today text ye 85023 savamob member offer mobil cs savamob pobox84 m263uz 300 sub 16 sm servic inclus text credit pl goto wwwcomuknet login unsubscrib stop extra charg help08700469649 po box420 ip4 5we winner special select receiv 1000 cash 2000 award speak live oper claim call 087123002209am7pm cost 10p sunshin hol claim ur med holiday send stamp self address envelop drink us uk po box 113 bray wicklow eir quiz start saturday unsub stop u win 100 music gift voucher everi week start txt word draw 87066 tsc wwwidewcom skillgam 1winaweek age16 150ppermesssubscript b4u voucher wc 2703 marsm log onto wwwb4utelecom discount credit opt repli stop custom care call 08717168528 freemsg hey buffi 25 love satisfi men home alon feel randi repli 2 c pix qlynnbv help08700621170150p msg send stop stop txt free 1st week no1 nokia tone 4 ur mob everi week txt nokia 87077 get txting tell ur mate zed pobox 36504 w45wq norm150pton 16 free camera phone linerent 449month 750 cross ntwk min 12 price txt bundl deal also avbl call 08001950382 call2optoutj mf urgent mobil 07xxxxxxxxx 2000 bonu caller prize 020603 2nd attempt reach call 09066362231 asap box97n7qp 150ppm urgent 4 costa del sol holiday 5000 await collect call 09050090044 toclaim sae tc pobox334 stockport sk38xh cost150pm max10min guarante 1000 cash 2000 prize claim yr prize call custom servic repres 08714712379 10am7pm cost 10p thank rington order ref number k718 mobil charg 450 tone arriv pleas call custom servic 09065069120 hi ya babe x u 4goten bout scammer get smart though regular vodafon respond get prem rate msgsubscript no use also bewar back 2 work 2morro half term u c 2nite 4 sexi passion b4 2 go back chat 09099726481 luv dena call 1minmobsmorelkpobox177hp51fl thank rington order ref number r836 mobil charg 450 tone arriv pleas call custom servic 09065069154 splashmobil choos 1000 gr8 tone wk subscrit servic weekli tone cost 300p u one credit kick back enjoy heard u4 call 4 rude chat privat line 01223585334 cum wan 2c pic gettin shag text pix 8552 2end send stop 8552 sam xxx forward 88877 free entri 250 weekli comp send word enter 88877 18 c wwwtextcompcom 88066 88066 lost 3pound help mobil 11mth updat free orang latest colour camera mobil unlimit weekend call call mobil upd8 freefon 08000839402 2stoptx 1 new messag pleas call 08718738034 forward 21870000 hi mailbox messag sm alert 4 messag 21 match pleas call back 09056242159 retriev messag match mobi pub quizwin 100 high street prize u know new duchess cornwal txt first name 82277unsub stop 150 008704050406 sp arrow nokia 7250i get win free auction take part send nokia 86021 hgsuite3422land roww1jhl 16 congratul thank good friend u 2000 xma prize 2 claim easi call 08718726971 10p per minut btnationalr tddnewslett emc1couk game thedailydraw dear helen dozen free game great prizeswith urgent mobil number 2000 bonu caller prize 100603 2nd attempt reach call 09066368753 asap box 97n7qp 150ppm doubl min txt orang 12 price linerent motorola sonyericsson btooth freenokia free call mobileupd8 08000839402 or2optouthv9d download mani rington u like restrict 1000 2 choos u even send 2 yr buddi txt sir 80082 3 pleas call 08712402902 immedi urgent messag wait spook mob halloween collect logo pic messag plu free eeri tone txt card spook 8007 zed 08701417012150p per logop fantasi footbal back tv go sky gamestar sky activ play 250k dream team score start saturday regist sky opt 88088 tone club sub expir 2 resub repli monoc 4 mono polyc 4 poli 1 weekli 150p per week txt stop 2 stop msg free stream 0871212025016 xma prize draw tri contact u today draw show 2000 prize guarante call 09058094565 land line valid 12hr ye place town meet excit adult singl uk txt chat 86688 150pmsg someon contact date servic enter phone becausethey fanci find call landlin 09058098002 pobox1 w14rg 150p babe u want dont u babi im nasti thing 4 filthyguy fanci rude time sexi bitch go slo n hard txt xxx slo 4msg sm servic inclus text credit pl gotto wwwcomuknet login 3qxj9 unsubscrib stop extra charg help 08702840625 comuk220cm2 9ae valentin day special win 1000 quiz take partner trip lifetim send go 83600 150pmsg rcvd custcare08718720201 guess first time creat web page wwwasjesuscom read wrote wait opinion want friend 11 ur chanc win 250 cash everi wk txt play 83370 c wwwmusictrivianet custcar 08715705022 1x150pwk sppok ur mob halloween collect nokia logo pic messag plu free eeri tone txt card spook 8007 urgent call 09066612661 landlin complementari 4 tenerif holiday 10000 cash await collect sae cs po box 3 wa14 2px 150ppm 18 sender hol offer winner valu network custom hvae select receiv 900 reward collect call 09061701444 valid 24 hour acl03530150pm u nokia 6230 plu free digit camera u get u win free auction take part send nokia 83383 pobox11414tcrw1 16 free entri 250 weekli comp send word win 80086 18 c wwwtxttowincouk text82228 get rington logo game wwwtxt82228com question info txt82228couk freemsg award free mini digit camera repli snap collect prize quizclub opt stop 80122300pwk sp rwm ph08704050406 messag brought gmw ltd connect congrat 2 mobil 3g videophon r call 09063458130 videochat wid ur mate play java game dload polyph music nolin rentl bx420 ip4 5we 150p next amaz xxx picsfree1 video sent enjoy one vid enough 2day text back keyword picsfree1 get next video u subscrib best mobil content servic uk 3 per ten day send stop 83435 helplin 08706091795 3 free tarot text find love life tri 3 free text chanc 85555 16 3 free msg 150 join uk horniest dog servic u sex 2nite sign follow instruct txt entri 69888 nytec2a3lpmsg 150p knock knock txt whose 80082 enter r weekli draw 4 250 gift voucher 4 store yr choic cs wwwtklscom age16 stoptxtstop150week forward 21870000 hi mailbox messag sm alert 40 match pleas call back 09056242159 retriev messag match cc100pmin free ring tone text poli 87131 everi week get new tone 0870737910216yr 150wk urgent mobil 077xxx 2000 bonu caller prize 020603 2nd attempt reach call 09066362206 asap box97n7qp 150ppm guarante latest nokia phone 40gb ipod mp3 player 500 prize txt word collect 83355 ibhltd ldnw15h 150pmtmsgrcvd18 hello darl today would love chat dont tell look like sexi 8007 free 1st week no1 nokia tone 4 ur mob everi week txt nokia 8007 get txting tell ur mate wwwgetzedcouk pobox 36504 w4 5wq norm 150ptone 16 wan na get laid 2nite want real dog locat sent direct ur mobil join uk largest dog network txt park 69696 nyt ec2a 3lp 150msg tri contact respons offer new nokia fone camcord hit repli call 08000930705 deliveri new tone week includ 1 mcflyall ab 2 sara jorgeshock 3 smithswitch order follow instruct next messag urgent tri contact u today draw show 800 prize guarante call 09050003091 land line claim c52 valid 12hr sport fan get latest sport news str 2 ur mobil 1 wk free plu free tone txt sport 8007 wwwgetzedcouk 0870141701216 norm 4txt120p urgent urgent 800 free flight europ give away call b4 10th sept take friend 4 free call claim 09050000555 ba128nnfwfly150ppm 88066 lost 12 help freemsg fanci flirt repli date join uk fastest grow mobil date servic msg rcvd 25p optout txt stop 83021 repli date great new offer doubl min doubl txt best orang tariff get latest camera phone 4 free call mobileupd8 free 08000839402 2stoptxt cs hope enjoy new content text stop 61610 unsubscrib help08712400602450p provid tones2youcouk urgent pleas call 09066612661 landlin 5000 cash luxuri 4 canari island holiday await collect cs sae award 20m12aq 150ppm 16 urgent pleas call 09066612661 landlin complimentari 4 lux costa del sol holiday 1000 cash await collect ppm 150 sae cs jame 28 eh74rr marri local women look discreet action 5 real match instantli phone text match 69969 msg cost 150p 2 stop txt stop bcmsfwc1n3xx burger king wan na play footi top stadium get 2 burger king 1st sept go larg super cocacola walk winner come take littl time child afraid dark becom teenag want stay night ur chanc win 250 cash everi wk txt action 80608 c wwwmovietriviatv custcar 08712405022 1x150pwk uve bin award 50 play 4 instant cash call 08715203028 claim everi 9th player win min 50500 optout 08718727870 freemsg fav xma tone repli real decemb mobil 11mth entitl updat latest colour camera mobil free call mobil updat co free 08002986906 gr8 poli tone 4 mob direct 2u rpli poli titl 8007 eg poli breathe1 titl crazyin sleepingwith finest ymca getzedcouk pobox365o4w45wq 300p interflora late order interflora flower christma call 0800 505060 place order midnight tomorrow romcapspam everyon around respond well presenc sinc warm outgo bring real breath sunshin congratul thank good friend u 2000 xma prize 2 claim easi call 08712103738 10p per minut btnationalr send logo 2 ur lover 2 name join heart txt love name1 name2 mobno eg love adam eve 07123456789 87077 yahoo pobox36504w45wq txtno 4 ad 150p tkt euro2004 cup final 800 cash collect call 09058099801 b4190604 pobox 7876150ppm freemessag jamster get crazi frog sound poli text mad1 real text mad2 88888 6 crazi sound 3 gbpweek 16onli c appli chanc realiti fantasi show call 08707509020 20p per min ntt ltd po box 1327 croydon cr9 5wb 0870 nation rate call adult 18 content video shortli chanc realiti fantasi show call 08707509020 20p per min ntt ltd po box 1327 croydon cr9 5wb 0870 nation rate call hey boy want hot xxx pic sent direct 2 ur phone txt porn 69855 24hr free 50p per day stop text stopbcm sf wc1n3xx pdatenow doubl min 1000 txt orang tariff latest motorola sonyericsson nokia bluetooth free call mobileupd8 08000839402 call2optout yhl ur cashbal current 500 pound maxim ur cashin send cash 86688 150pmsg cc 08718720201 po box 11414 tcrw1 urgent mobil number award 2000 prize guarante call 09058094454 land line claim 3030 valid 12hr sorri u unsubscrib yet mob offer packag min term 54 week pl resubmit request expiri repli themob help 4 info 1 new messag pleas call 08712400200 current messag await collect collect messag call 08718723815 urgent mobil award 1500 bonu caller prize 27603 final attempt 2 contact u call 08714714011 ever notic drive anyon go slower idiot everyon drive faster maniac xma offer latest motorola sonyericsson nokia free bluetooth dvd doubl min 1000 txt orang call mobileupd8 08000839402 call2optout4qf2 repli win 100 weekli profession sport tiger wood play send stop 87239 end servic 1 polyphon tone 4 ur mob everi week txt pt2 87575 1st tone free get txtin tell ur friend 150ptone 16 repli hl 4info messag free welcom new improv sex dog club unsubscrib servic repli stop msg 150p 18onli updatenow 12mth half price orang line rental 400min call mobileupd8 08000839402 call2optoutj5q free unlimit hardcor porn direct 2 mobil txt porn 69200 get free access 24 hr chrgd 50p per day txt stop 2exit msg free unsubscrib servic get ton sexi babe hunk straight phone go http gotbabescouk subscript hi babe jordan r u im home abroad lone text back u wan na chat xxsp visionsmscom text stop stopcost 150p 08712400603 get brand new mobil phone agent mob plu load goodi info text mat 87021 lord ring return king store repli lotr 2 june 4 chanc 2 win lotr soundtrack cd stdtxtrate repli stop end txt good luck draw take place 28th feb 06 good luck remov send stop 87239 custom servic 08708034412 1st wk free gr8 tone str8 2 u wk txt nokia 8007 classic nokia tone hit 8007 poli nokia150p poly200p 16 lookatm thank purchas video clip lookatm charg 35p think better send video mmsto 32323 sexi sexi cum text im wet warm readi porn u fun msg free recd msg 150p inc vat 2 cancel text stop 2nd time tri contact u u 1450 prize claim call 09053750005 b4 310303 csstop sm 08718725756 140ppm dear voucher holder claim week offer pc pleas go http wwwetlpcoukreward ts cs appli 2nd time tri 2 contact u u 750 pound prize 2 claim easi call 08712101358 10p per min btnationalr ur award citi break could win 200 summer shop spree everi wk txt store 88039skilgmetscs087147403231winawk age16150perwksub urgent tri contact u today draw show 2000 prize guarante call 09066358361 land line claim y87 valid 12hr thank rington order refer number x29 mobil charg 450 tone arriv pleas call custom servic 09065989180 ur cashbal current 500 pound maxim ur cashin send collect 83600 150pmsg cc 08718720201 po box 11414 tcrw1 congratul thank good friend u 2000 xma prize 2 claim easi call 08718726978 10p per minut btnationalr 44 7732584351 want new nokia 3510i colour phone deliveredtomorrow 300 free minut mobil 100 free text free camcord repli call 08000930705 someon u know ask date servic 2 contact cant guess call 09058097189 reveal pobox 6 ls15hb 150p camera award sipix digit camera call 09061221066 fromm landlin deliveri within 28 day today voda number end 5226 select receiv 350 award hava match pleas call 08712300220 quot claim code 1131 standard rate app messag free welcom new improv sex dog club unsubscrib servic repli stop msg 150p 18 rct thnq adrian u text rgd vatian contact date servic someon know find call land line 09050000928 pobox45w2tg150p sorri miss call let talk time 07090201529 complimentari 4 star ibiza holiday 10000 cash need urgent collect 09066364349 landlin lose box434sk38wp150ppm18 free msg bill mobil number mistak shortcod 83332pleas call 08081263000 charg refundedthi call free bt landlin pleas call 08712402972 immedi urgent messag wait urgent mobil number award 2000 bonu caller prize call 09058095201 land line valid 12hr want new nokia 3510i colour phone deliveredtomorrow 300 free minut mobil 100 free text free camcord repli call 08000930705 life never much fun great came made truli special wo nt forget enjoy one gbpsm want new video phone 600 anytim network min 400 inclus video call download 5 per week free deltomorrow call 08002888812 repli valu custom pleas advis follow recent review mob award 1500 bonu prize call 09066368470 welcom pleas repli age gender begin eg 24m freemsg 1month unlimit free call activ smartcal txt call 68866 subscriptn3gbpwk unlimit call help 08448714184 stop txt stop landlineonli mobil 10 mth updat latest orang cameravideo phone free save free textsweekend call text ye callback orno opt new 2 club dont fink met yet b gr8 2 c u pleas leav msg 2day wiv ur area 09099726553 repli promis carli x calls1minmobsmor lkpobox177hp51fl camera award sipix digit camera call 09061221066 fromm landlin deliveri within 28 day get free mobil video player free movi collect text go 89105 free extra film order c appli 18 yr save money wed lingeri wwwbridalpetticoatdreamscouk choos superb select nation deliveri brought weddingfriend heard u4 call night knicker make beg like u last time 01223585236 xx luv nikiyu4net bloomberg messag center 447797706009 wait appli futur http career bloombergcom want new video phone750 anytim network min 150 text five pound per week call 08000776320 repli deliveri tomorrow contact date servic someon know find call land line 09050000878 pobox45w2tg150p wan2 win meetgreet westlif 4 u m8 current tour 1 unbreak 2 untam 3 unkempt text 12 3 83049 cost 50p std text dorothi kiefercom bank granit issu strongbuy explos pick member 300 nasdaq symbol cdgt 500 per 1000 winner guarante caller prize final attempt contact claim call 09071517866 150ppmpobox10183bhamb64x xma new year eve ticket sale club day 10am till 8pm thur fri sat night week sell fast rock yr chik get 100 filthi film xxx pic yr phone rpli filth 69669 saristar ltd e14 9yt 08701752560 450p per 5 day stop2 cancel next month get upto 50 call 4 ur standard network charg 2 activ call 9061100010 c wire3net 1st4term pobox84 m26 3uz cost 150 min mobcudb urgent tri contact u today draw show 800 prize guarante call 09050000460 land line claim j89 po box245c2150pm text banneduk 89555 see cost 150p textoper g696ga 18 xxx auction round 4 highest bid 54 next maximum bid 71 bid send bid e g 10 bid 10 83383 good luck collect valentin weekend pari inc flight hotel 200 prize guarante text pari 69101 wwwrtfsphostingcom custom loyalti offer new nokia6650 mobil 10 txtauction txt word start 81151 get 4t ctxt tc 150pmtmsg wo nt believ true incred txt repli g learn truli amaz thing blow mind o2fwd 18ptxt hot n horni will live local text repli hear strt back 150p per msg netcollex ltdhelpdesk 02085076972 repli stop end want new nokia 3510i colour phone deliv tomorrow 200 free minut mobil 100 free text free camcord repli call 08000930705 congratul winner august 1000 prize draw call 09066660100 prize code 2309 8007 25p 4 alfi moon children need song ur mob tell ur m8 txt tone chariti 8007 nokia poli chariti poli zed 08701417012 profit 2 chariti get offici england poli rington colour flag yer mobil tonight game text tone flag 84199 optout txt eng stop box39822 w111wx 150 custom servic announc recent tri make deliveri unabl pleas call 07090298926 reschedul ref9307622 stop club tone repli stop mix see mytonecomenjoy html term club tone cost gbp450week mfl wamma get laid want real doggin locat sent direct mobil join uk largest dog network txt dog 69696 nyt ec2a 3lp 150msg promot number 8714714 ur award citi break could win 200 summer shop spree everi wk txt store 88039 skilgm tscs087147403231winawk age16 150perwksub winner special select receiv 1000 cash 2000 award speak live oper claim call 087147123779am7pm cost 10p thank rington order refer number x49 mobil charg 450 tone arriv pleas call custom servic 09065989182 colour text colour txtstar hi 2night ur lucki night uve invit 2 xchat uk wildest chat txt chat 86688 150pmsgrcvdhgsuite3422landsroww1j6hl ldn 18yr 22 146tf150p dear voucher holder 2 claim 1st class airport loung pass use holiday voucher call 08704439680 book quot 1st class x 2 someon u know ask date servic 2 contact cant guess call 09058095107 reveal pobox 7 s3xi 150p mila age23 blond new uk look sex uk guy u like fun text mtalk 6986618 30pptxt 1st 5free 150 increment help08718728876 claim 200 shop spree call 08717895698 mobstorequiz10ppm want funk ur fone weekli new tone repli tones2u 2 text wwwringtonescouk origin n best tone 3gbp network oper rate appli twink bear scalli skin jock call nt miss weekend fun call 08712466669 10pmin 2 stop text call 08712460324 nat rate tri contact repli offer video handset 750 anytim network min unlimit text camcord repli call 08000930705 urgent tri contact last weekend draw show 900 prize guarante call 09061701851 claim code k61 valid 12hour 74355 xma iscom ur award either 500 cd gift voucher free entri 2 r 100 weekli draw txt music 87066 tnc congratul u claim 2 vip row ticket 2 c blu concert novemb blu gift guarante call 09061104276 claim ts cs wwwsmsconet cost375max free msg singl find partner area 1000 real peopl wait chat send chat 62220cncl send stopc 08717890890150 per msg win newest harri potter order phoenix book 5 repli harri answer 5 question chanc first among reader free msg rington http tm widelivecomindex wml id1b6a5ecef91ff9 37819 firsttrue180430jul05 oh god found number glad text back xafter msg cst std ntwk chg 150 link pictur sent also use http alto18coukwavewaveasp o44345 doubl min 1000 txt orang tariff latest motorola sonyericsson nokia bluetooth free call mobileupd8 08000839402 call2optouthf8 urgent 2nd attempt contact u 900 prize yesterday still await collect claim call 09061702893 acl03530150pm dear dave final notic collect 4 tenerif holiday 5000 cash award call 09061743806 landlin tc sae box326 cw25wx 150ppm tell u 2 call 09066358152 claim 5000 prize u 2 enter ur mobil person detail prompt care 2004 account 07xxxxxxxxx show 786 unredeem point claim call 08719181259 identifi code xxxxx expir 260305 want new video handset 750 anytim network min half price line rental camcord repli call 08000930705 deliveri tomorrow free rington repli real poli eg real1 1 pushbutton 2 dontcha 3 babygoodby 4 golddigg 5 webeburnin 1st tone free 6 u join 3wk free msg get gnarl barkley crazi rington total free repli go messag right refus loan secur unsecur ca nt get credit call free 0800 195 6669 text back help special select receiv 3000 award call 08712402050 line close cost 10ppm 16 cs appli ag promo valu vodafon custom comput pick win 150 prize collect easi call 09061743386 free video camera phone half price line rental 12 mth 500 cross ntwk min 100 txt call mobileupd8 08001950382 call2optout674 ringtonek 84484 rington club gr8 new poli direct mobil everi week bank granit issu strongbuy explos pick member 300 nasdaq symbol cdgt 500 per bore housew chat n date 08717507711 btnation rate 10pmin landlin tri call repli sm video mobil 750 min unlimit text free camcord repli call 08000930705 del thur 2nd time tri contact u u 400 prize 2 claim easi call 087104711148 10p per minut btnationalr receiv week tripl echo rington shortli enjoy u select stay 1 250 top british hotel noth holiday valu 350 dial 08712300220 claim nation rate call bx526 sw73ss chosen receiv 350 award pl call claim number 09066364311 collect award select receiv valu mobil custom win 1000 cash prize prize worth 5000 thank rington order refer number x49your mobil charg 450 tone arriv pleas call custom servic 09065989182 mobi pub quizwin 100 high street prize u know new duchess cornwal txt first name 82277unsub stop 150 008704050406 sp week savamob member offer access call 08709501522 detail savamob pobox 139 la3 2wu 150week savamob offer mobil contact date servic someon know find call mobil landlin 09064017305 pobox75ldns7 tbspersolvo chase us sinc sept for38 definit pay thank inform ignor kath manchest loan purpos even bad credit tenant welcom call noworriesloanscom 08717111821 87077 kick new season 2wk free goal news ur mobil txt ur club name 87077 eg villa 87077 orang bring rington time chart hero free hit week go rington pic wap stop receiv tip repli stop privat 2003 account statement 07973788240 show 800 unredeem point call 08715203649 identifi code 40533 expir 311004 tri call repli sm video mobil 750 min unlimit text free camcord repli call 08000930705 gsoh good spam ladi u could b male gigolo 2 join uk fastest grow men club repli oncal mjzgroup 087143423992stop repli stop msg 150rcvd hot live fantasi call 08707500020 20p per min ntt ltd po box 1327 croydon cr9 5wb 0870 nation rate call urgent mobil number award ukp 2000 prize guarante call 09061790125 landlin claim 3030 valid 12hr 150ppm spjanuari male sale hot gay chat cheaper call 08709222922 nation rate 15pmin cheap 78pmin peak stop text call 08712460324 10pmin freemsg today day readi horni live town love sex fun game netcollex ltd 08700621170150p per msg repli stop end simpson movi releas juli 2007 name band die start film agreen day bblue day cred day send b c pleas call amanda regard renew upgrad current tmobil handset free charg offer end today tel 0845 021 3680 subject c want new video phone 750 anytim network min half price line rental free text 3 month repli call 08000930705 free deliveri dear voucher holder claim week offer pc pleas go http wwwwtlpcouktext ts cs appli urgent pleas call 0906346330 abta complimentari 4 spanish holiday 10000 cash await collect sae cs box 47 po19 2ez 150ppm 18 cmon babe make horni turn txt fantasi babe im hot sticki need repli cost 150 2 cancel send stop import inform 4 orang user 0796xxxxxx today ur lucki day 2 find log onto http wwwurawinnercom fantast prizeawait miss call alert number call left messag 07008009200 freemsg record indic may entitl 3750 pound accid claim free repli ye msg opt text stop show ur colour euro 2004 241 offer get england flag 3lion tone ur phone click follow servic messag info text pass 69669 collect polyphon rington normal gpr charg appli enjoy tone accordingli repeat text word ok mobil phone send block breaker come delux format new featur great graphic tmobil buy 5 repli get bbdelux take challeng import inform 4 orang user today lucki day 2find log onto http wwwurawinnercom fantast surpris await natalja 25f invit friend repli yes440 no440 see wwwsmsacunat27081980 stop send stop frnd 62468 urgent import inform 02 user today lucki day 2 find log onto http wwwurawinnercom fantast surpris await kit strip bill 150p netcollex ltd po box 1013 ig11 oja pleas call 08712402578 immedi urgent messag wait thesmszonecom let send free anonym mask messag im send messag see potenti abus congrat 2 mobil 3g videophon r call 09061744553 videochat wid ur mate play java game dload polyh music nolin rentl bx420 ip4 5we 150pm import inform 4 orang user 0789xxxxxxx today lucki day 2find log onto http wwwurawinnercom fantast surpris await date servic ask 2 contact u someon shi call 09058091870 reveal pobox84 m26 3uz 150p want new video handset 750 time network min unlimit text camcord repli call 08000930705 del sat ur balanc 600 next question complet landmark big bob b barri c ben text b c 83738 good luck ur tonex subscript renew charg 450 choos 10 poli month wwwclubzedcouk bill msg nt prize go anoth custom c wwwtcbiz 18 150pmin polo ltd suit 373 london w1j 6hl pleas call back busi want new nokia 3510i colour phone deliv tomorrow 200 free minut mobil 100 free text free camcord repli call 8000930705 recpt 13 order rington order process one regist subscrib u enter draw 4 100 gb gift voucher repli enter unsubscrib text stop chanc win free bluetooth headset simpli repli back adp nt b floppi b snappi happi gay chat servic photo upload call 08718730666 10pmin 2 stop text call 08712460324 welcom ukmobiled msg free give free call 08719839835 futur mg bill 150p daili cancel send go stop 89123 3 receiv mobil content enjoy want explicit sex 30 sec ring 02073162414 cost 20pmin latest nokia mobil ipod mp3 player 400 proze guarante repli win 83355 norcorp ltd150mtmsgrcvd18 sm servic inclus text credit pl goto wwwcomuknet login 3qxj9 unsubscrib stop extra charg help 08702840625comuk 220cm2 9ae mobil club choos top qualiti item mobil 7cfca1a money wine number 946 wot next want cock hubbi away need real man 2 satisfi txt wife 89938 string action txt stop 2 end txt rec 150ea otbox 731 la1 7w gr8 new servic live sex video chat mob see sexiest dirtiest girl live ur phone 4 detail text horni 89070 cancel send stop 89070 freemsg hi babi wow got new cam mobi wan na c hot pic fanci chat im w8in 4utxt rpli chat 82242 hlp 08712317606 msg150p 2rcv wan na laugh tri chitchat mobil logon txting word chat send 8883 cm po box 4217 london w1a 6zf 16 118pmsg rcvd urgent 2nd attempt contact u u 1000call 09071512432 b4 300603t csbcm4235wc1n3xxcallcost150ppmmobilesvari max7 50 congratul ur award 500 cd voucher 125gift guarante free entri 2 100 wkli draw txt music 87066 contract mobil 11 mnth latest motorola nokia etc free doubl min text orang tariff text ye callback remov record urgent call 09066350750 landlin complimentari 4 ibiza holiday 10000 cash await collect sae cs po box 434 sk3 8wp 150 ppm 18 u secret admir look 2 make contact ufind r reveal think ur specialcal 09065171142stopsms08718727870150ppm freemsg txt call 86888 claim reward 3 hour talk time use phone subscribe6gbpmnth inc 3hr 16 stop txtstop sunshin quiz win super soni dvd record cannam capit australia text mquiz 82277 b today voda number end 7634 select receiv 350 reward match pleas call 08712300220 quot claim code 7684 standard rate appli rip get mobil content wwwclubmobycom call 08717509990 polytruepixringtonesgam six download 3 tri contact repli offer video phone 750 anytim network min half price line rental camcord repli call 08000930705 400 xma reward wait comput randomli pick loyal mobil custom receiv 400 reward call 09066380611 privat 2003 account statement show 800 unredeem point call 08718738002 identifi code 48922 expir 211104 custom servic announc recent tri make deliveri unabl pleas call 07099833605 reschedul ref9280114 hi babe chloe r u smash saturday night great weekend u miss sp visionsmscom text stop stop 150ptext urgent mobil 07808726822 award 2000 bonu caller prize 020903 2nd attempt contact call 08718729758 box95qu free game get rayman golf 4 free o2 game arcad 1st get ur game set repli post save activ8 press 0 key arcad termsappli mobil 10 mth updat latest cameravideo phone free keep ur number get extra free minstext text ye call weekli coolmob tone readi download week new tone includ 1 crazi frogaxel f 2 akonlon 3 black eyeddont p info n cashbincouk get lot cash weekend wwwcashbincouk dear welcom weekend got biggest best ever cash give away thank 4 continu support question week enter u in2 draw 4 100 cash name new us presid txt an 80082 uniqu user id 1172 remov send stop 87239 custom servic 08708034412 urgent call 09066649731from landlin complimentari 4 ibiza holiday 10000 cash await collect sae cs po box 434 sk3 8wp 150ppm 18 urgent 2nd attempt contact u 900 prize yesterday still await collect claim call 09061702893 santa call would littl one like call santa xma eve call 09077818151 book time calls150ppm last 3min 30 c wwwsantacallingcom privat 2004 account statement 078498 7 show 786 unredeem bonu point claim call 08719180219 identifi code 45239 expir 060505 check choos babe video smsshsexnetun fgkslpopw fgkslpo u r winner u ave special select 2 receiv 1000 cash 4 holiday flight inc speak live oper 2 claim 0871277810710pmin 18 new mobil 2004 must go txt nokia 89545 collect today 1 www4tcbiz 2optout 08718726270150gbpmtmsg18 txtauction privat 2003 account statement show 800 unredeem point call 08715203652 identifi code 42810 expir 29100 valu vodafon custom comput pick win 150 prize collect easi call 09061743386 free messag thank use auction subscript servic 18 150pmsgrcvd 2 skip auction txt 2 unsubscrib txt stop customercar 08718726270 lyricalladi 21f invit friend repli yes910 no910 see wwwsmsacuhmmross stop send stop frnd 62468 want latest video handset 750 anytim network min half price line rental repli call 08000930705 deliveri tomorrow ou guarante latest nokia phone 40gb ipod mp3 player 500 prize txt word collect 83355 ibhltd ldnw15h 150pmtmsgrcvd18 free polyphon rington text super 87131 get free poli tone week 16 sn pobox202 nr31 7z subscript 450pw warner villag 83118 c colin farrel swat wkend warner villag get 1 free med popcorn show msgticket kioskvalid 4712 c c kiosk repli soni 4 mre film offer goal arsen 4 henri 7 v liverpool 2 henri score simpl shot 6 yard pass bergkamp give arsen 2 goal margin 78 min hi sexychat girl wait text text great night chat send stop stop servic hi ami send free phone number coupl day give access adult parti welcom select o2 servic ad benefit call special train advisor free mobil diall 402 dear voucher holder next meal us use follow link pc 2 enjoy 2 4 1 dine experiencehttp wwwvouch4mecometlpdiningasp urgent tri contact u today draw show 2000 prize guarante call 09058094507 land line claim 3030 valid 12hr donat 250 unicef asian tsunami disast support fund text donat 864233 250 ad next bill goldvik 29m invit friend repli yes762 no762 see wwwsmsacugoldvik stop send stop frnd 62468 phoni 350 award today voda number end xxxx select receiv 350 award match pleas call 08712300220 quot claim code 3100 standard rate app cd 4u congratul ur award 500 cd gift voucher 125 gift guarante freeentri 2 100 wkli draw xt music 87066 tnc wwwldewcom1win150ppmx3age16 guarante 1000 cash 2000 prize claim yr prize call custom servic repres 08714712412 10am7pm cost 10p dear 0776xxxxxxx u invit xchat final attempt contact u txt chat 86688 150pmsgrcvdhgsuite3422landsroww1j6hl ldn 18yr ur cashbal current 500 pound maxim ur cashin send go 86688 150pmeg cc 08718720201 hgsuite3422land roww1j6hl privat 2003 account statement show 800 unredeem sim point call 08715203685 identifi code4xx26 expir 131004 like tell deepest darkest fantasi call 09094646631 60pmin stop text call 08712460324 nat rate natali 20f invit friend repli yes165 no165 see wwwsmsacunatalie2k9 stop send stop frnd 62468 jamster get free wallpap text heart 88888 c appli 16 need help call 08701213186 free video camera phone half price line rental 12 mth 500 cross ntwk min 100 txt call mobileupd8 08001950382 call2optout674 83039 62735450 uk break accommodationvouch term condit appli 2 claim mustprovid claim number 15541 5p 4 alfi moon children need song ur mob tell ur m8 txt tone chariti 8007 nokia poli chariti poli zed 08701417012 profit 2 chariti win 200 shop spree everi week start 2 play text store 88039 skilgm tscs08714740323 1winawk age16 150perweeksub 2nd attempt contract u week top prize either 1000 cash 200 prize call 09066361921 want new nokia 3510i colour phone deliveredtomorrow 300 free minut mobil 100 free text free camcord repli call 08000930705 themob hit link get premium pink panther game new 1 sugabab crazi zebra anim badass hoodi wallpaperal 4 free msg mobil content order resent previou attempt fail due network error queri customersqueri netvisionukcom 1 new messag pleas call 08715205273 decemb mobil 11mth entitl updat latest colour camera mobil free call mobil updat vco free 08002986906 get 3 lion england tone repli lionm 4 mono lionp 4 poli 4 go 2 wwwringtonescouk origin n best tone 3gbp network oper rate appli privat 2003 account statement 078 4 costa del sol holiday 5000 await collect call 09050090044 toclaim sae tc pobox334 stockport sk38xh cost150pm max10min get garden readi summer free select summer bulb seed worth 3350 scotsman saturday stop go2 notxtcouk sm auction brand new nokia 7250 4 auction today auction free 2 join take part txt nokia 86021 ree entri 2 weekli comp chanc win ipod txt pod 80182 get entri std txt rate c appli 08452810073 detail 18 record indic u mayb entitl 5000 pound compens accid claim 4 free repli claim msg 2 stop txt stop spook mob halloween collect logo pic messag plu free eeri tone txt card spook 8007 zed 08701417012150p per logop call germani 1 penc per minut call fix line via access number 0844 861 85 85 prepay direct access wwwtelediscountcouk mobil 11mth updat free orang latest colour camera mobil unlimit weekend call call mobil upd8 freefon 08000839402 2stoptxt privat 2003 account statement fone show 800 unredeem point call 08715203656 identifi code 42049 expir 261004 someonon know tri contact via date servic find could call mobil landlin 09064015307 box334sk38ch urgent pleas call 09061213237 landlin 5000 cash 4 holiday await collect cs sae po box 177 m227xi 16 nt prize go anoth custom c wwwtcbiz 18 150pmin polo ltd suit 373 london w1j 6hl pleas call back busi urgent mobil number award 2000 prize guarante call 09061790126 land line claim 3030 valid 12hr 150ppm urgent pleas call 09061213237 landlin 5000 cash luxuri 4 canari island holiday await collect cs sae po box 177 m227xi 150ppm 16 xma iscom ur award either 500 cd gift voucher free entri 2 r 100 weekli draw txt music 87066 tnc wwwldewcom1win150ppmx3age16subscript u r subscrib 2 textcomp 250 wkli comp 1st wk free question follow subsequ wk charg 150pmsg2 unsubscrib txt stop 2 84128 custcar 08712405020 call 09095350301 send girl erot ecstaci 60pmin stop text call 08712460324 nat rate 400 xma reward wait comput randomli pick loyal mobil custom receiv 400 reward call 09066380611 import messag final contact attempt import messag wait custom claim dept expir 13404 call 08717507382 date two start sent text talk sport radio last week connect think coincid current lead bid 151 paus auction send custom care 08718726270 free entri gr8prize wkli comp 4 chanc win latest nokia 8800 psp 250 cash everi wktxt great 80878 httpwwwgr8prizescom 08715705022 1 new messag call 02070836089 santa call would littl one like call santa xma eve call 09058094583 book time guarante 32000 award mayb even 1000 cash claim ur award call free 0800 18 legitimat efreefon number wat u think latest news polic station toilet stolen cop noth go sparkl shop break 45 per person call 0121 2025050 visit wwwshortbreaksorguk txt call 86888 claim reward 3 hour talk time use phone subscribe6gbpmnth inc 3hr 16 stop txtstop wwwgambtv httptm widelivecomindex wml id820554ad0a1705572711 firsttruec c rington urgent last weekend draw show 1000 cash spanish holiday call 09050000332 claim c rstm sw7 3ss 150ppm urgent tri contact last weekend draw show u 1000 prize guarante call 09064017295 claim code k52 valid 12hr 150p pm 2p per min call germani 08448350055 bt line 2p per min check planettalkinstantcom info c text stop opt marvel mobil play offici ultim spiderman game 450 ur mobil right text spider 83338 game send u free 8ball wallpap privat 2003 account statement 07808247860 show 800 unredeem point call 08719899229 identifi code 40411 expir 061104 privat 2003 account statement show 800 unredeem sim point call 08718738001 identifi code 49557 expir 261104 want explicit sex 30 sec ring 02073162414 cost 20pmin gsex pobox 2667 wc1n 3xx ask 3mobil 0870 chatlin inclu free min india cust serv sed ye l8er got mega bill 3 dont giv shit bailiff due day 250 3 want 800 contract mobil 11 mnth latest motorola nokia etc free doubl min text orang tariff text ye callback remov record remind o2 get 250 pound free call credit detail great offer pl repli 2 text valid name hous postcod 2nd time tri 2 contact u u 750 pound prize 2 claim easi call 087187272008 now1 10p per minut btnationalr'"
            ],
            "application/vnd.google.colaboratory.intrinsic+json": {
              "type": "string"
            }
          },
          "metadata": {},
          "execution_count": 51
        }
      ]
    },
    {
      "cell_type": "code",
      "source": [
        "spam_emails = data[data['result'] == 'spam']['transform_text']\n",
        "# Tokenize the text in spam emails\n",
        "spam_words = ' '.join(spam_emails).split()\n",
        "\n",
        "# Count occurrences of each word\n",
        "word_counts = Counter(spam_words)\n",
        "\n",
        "# Find the most common words\n",
        "most_common_words_spam = word_counts.most_common(10)\n",
        "print(\"Top 10 Most Common Words in Spam Emails:\")\n",
        "for word, count in most_common_words_spam:\n",
        "    print(f\"{word}: {count} occurrences\")\n",
        "\n",
        "\n",
        "# Plot Bar Graph\n",
        "plt.figure(figsize=(8, 4))\n",
        "words, counts = zip(*most_common_words_spam)#he words and their corresponding frequencies are extracted from most_common_words using zip\n",
        "plt.bar(words, counts, color='orange')\n",
        "plt.title('Bar Graph for Most Common Words in Spam Emails')\n",
        "plt.xlabel('Words')\n",
        "plt.ylabel('Frequency')\n",
        "plt.xticks(rotation=45, ha='right')\n",
        "plt.show()"
      ],
      "metadata": {
        "colab": {
          "base_uri": "https://localhost:8080/",
          "height": 624
        },
        "id": "6thCS4l22cS5",
        "outputId": "df9536a6-4935-4814-e8bf-268b96bbbf16"
      },
      "execution_count": null,
      "outputs": [
        {
          "output_type": "stream",
          "name": "stdout",
          "text": [
            "Top 10 Most Common Words in Spam Emails:\n",
            "call: 321 occurrences\n",
            "free: 191 occurrences\n",
            "2: 157 occurrences\n",
            "txt: 141 occurrences\n",
            "u: 135 occurrences\n",
            "text: 122 occurrences\n",
            "ur: 119 occurrences\n",
            "mobil: 114 occurrences\n",
            "stop: 106 occurrences\n",
            "repli: 103 occurrences\n"
          ]
        },
        {
          "output_type": "display_data",
          "data": {
            "text/plain": [
              "<Figure size 800x400 with 1 Axes>"
            ],
            "image/png": "[encoded data removed]"
          },
          "metadata": {}
        }
      ]
    },
    {
      "cell_type": "code",
      "source": [
        "ham_emails = data[data['result'] == 'ham']['transform_text']\n",
        "# Tokenize the text in spam emails\n",
        "ham_words = ' '.join(ham_emails).split()\n",
        "# Count occurrences of each word\n",
        "word_counts = Counter(ham_words)\n",
        "# Find the most common words\n",
        "most_common_words = word_counts.most_common(10)\n",
        "#print(most_common_words)\n",
        "print(\"Top 10 Most Common Words in ham Emails:\")\n",
        "for word, count in most_common_words:\n",
        "    print(f\"{word}: {count} occurrences\")\n",
        "\n",
        "# Plot Bar Graph\n",
        "plt.figure(figsize=(8, 4))\n",
        "words, counts = zip(*most_common_words)\n",
        "plt.bar(words, counts, color='orange')\n",
        "plt.title('Bar Graph for Most Common Words in ham Emails')\n",
        "plt.xlabel('Words')\n",
        "plt.ylabel('Frequency')\n",
        "plt.xticks(rotation=45, ha='right')\n",
        "\n",
        "plt.show()"
      ],
      "metadata": {
        "colab": {
          "base_uri": "https://localhost:8080/",
          "height": 624
        },
        "id": "lrOdOXkFV9aH",
        "outputId": "1474623a-c40a-49fe-d3ae-111408032bbb"
      },
      "execution_count": null,
      "outputs": [
        {
          "output_type": "stream",
          "name": "stdout",
          "text": [
            "Top 10 Most Common Words in ham Emails:\n",
            "u: 904 occurrences\n",
            "go: 404 occurrences\n",
            "nt: 352 occurrences\n",
            "get: 352 occurrences\n",
            "2: 290 occurrences\n",
            "gt: 288 occurrences\n",
            "lt: 287 occurrences\n",
            "come: 275 occurrences\n",
            "ok: 251 occurrences\n",
            "got: 238 occurrences\n"
          ]
        },
        {
          "output_type": "display_data",
          "data": {
            "text/plain": [
              "<Figure size 800x400 with 1 Axes>"
            ],
            "image/png": "[encoded data removed]"
          },
          "metadata": {}
        }
      ]
    },
    {
      "cell_type": "code",
      "source": [
        "#PRepraring data for modeling\n",
        "encoder = LabelEncoder()\n",
        "data['result'] = encoder.fit_transform(data['result'])\n",
        "data.sample(2)\n",
        "\n",
        "#data spliting and vectorization\n",
        "tfidf = TfidfVectorizer(max_features=3000)\n",
        "X = tfidf.fit_transform(data['emails']).toarray()\n",
        "y = data['result']\n",
        "X_train, X_test, y_train, y_test = train_test_split(X, y, test_size=0.2, random_state=42)"
      ],
      "metadata": {
        "id": "BF1QW2jxOXeR"
      },
      "execution_count": null,
      "outputs": []
    },
    {
      "cell_type": "code",
      "source": [
        "# support vector model\n",
        "svc_classifier = SVC()\n",
        "svc_classifier.fit(X_train, y_train)\n",
        "y_pred_svc = svc_classifier.predict(X_test)\n",
        "accuracy_svc = accuracy_score(y_test, y_pred_svc)\n",
        "print(f\"SVM Accuracy: {accuracy_svc:.2f}\")\n",
        "print(\"confusion Matrix :\",confusion_matrix(y_test,y_pred_svc))\n",
        "print(\"Precision Score: \",precision_score(y_test,y_pred_svc))"
      ],
      "metadata": {
        "colab": {
          "base_uri": "https://localhost:8080/"
        },
        "id": "FrhKEOm_bRsU",
        "outputId": "cacecede-3b1e-481e-e310-9d8bfab051f6"
      },
      "execution_count": null,
      "outputs": [
        {
          "output_type": "stream",
          "name": "stdout",
          "text": [
            "SVM Accuracy: 0.99\n",
            "confusion Matrix : [[889   0]\n",
            " [ 14 131]]\n",
            "Precision Score:  1.0\n"
          ]
        }
      ]
    },
    {
      "cell_type": "code",
      "source": [
        "#Random forest Model\n",
        "rf_classifier = RandomForestClassifier()\n",
        "rf_classifier.fit(X_train, y_train)\n",
        "y_pred_rf = rf_classifier.predict(X_test)\n",
        "accuracy_rf = accuracy_score(y_test, y_pred_rf)\n",
        "print(f\"Random Forest Accuracy: {accuracy_rf:.2f}\")\n",
        "print(\"confusion Matrix :\",confusion_matrix(y_test,y_pred_rf))\n",
        "print(\"Precision Score: \",precision_score(y_test,y_pred_rf))"
      ],
      "metadata": {
        "colab": {
          "base_uri": "https://localhost:8080/"
        },
        "id": "BNT9f14ucyII",
        "outputId": "eec5e05e-d798-404e-e980-79c59e92e535"
      },
      "execution_count": null,
      "outputs": [
        {
          "output_type": "stream",
          "name": "stdout",
          "text": [
            "Random Forest Accuracy: 0.98\n",
            "confusion Matrix : [[888   1]\n",
            " [ 18 127]]\n",
            "Precision Score:  0.9921875\n"
          ]
        }
      ]
    },
    {
      "cell_type": "code",
      "source": [
        "#Naive Bayes Model\n",
        "nb_classifier = MultinomialNB()\n",
        "nb_classifier.fit(X_train, y_train)\n",
        "y_pred_nb = nb_classifier.predict(X_test)\n",
        "accuracy_nb = accuracy_score(y_test, y_pred_nb)\n",
        "print(f\"Naive Bayes Accuracy: {accuracy_nb:.2f}\")\n",
        "print(\"confusion Matrix :\",confusion_matrix(y_test,y_pred_nb))\n",
        "print(\"Precision Score: \",precision_score(y_test,y_pred_nb))"
      ],
      "metadata": {
        "colab": {
          "base_uri": "https://localhost:8080/"
        },
        "id": "ChFOlw6ac2oV",
        "outputId": "54e76d71-2bb0-4fbe-bfb5-77dae109cd6c"
      },
      "execution_count": null,
      "outputs": [
        {
          "output_type": "stream",
          "name": "stdout",
          "text": [
            "Naive Bayes Accuracy: 0.98\n",
            "confusion Matrix : [[889   0]\n",
            " [ 24 121]]\n",
            "Precision Score:  1.0\n"
          ]
        }
      ]
    },
    {
      "cell_type": "code",
      "source": [
        "# Calculate precision scores for each classifier\n",
        "precision_svc = precision_score(y_test, y_pred_svc)\n",
        "precision_rf = precision_score(y_test, y_pred_rf)\n",
        "precision_nb = precision_score(y_test, y_pred_nb)\n",
        "\n",
        "# Create lists to store accuracies and precision scores\n",
        "classifiers = ['SVC', 'Random Forest', 'Naive Bayes']\n",
        "accuracies = [accuracy_svc, accuracy_rf, accuracy_nb]\n",
        "precision_scores = [precision_svc, precision_rf, precision_nb]\n",
        "\n",
        "# Plot bar graph for accuracies and precision scores side by side\n",
        "fig, axes = plt.subplots(1, 2, figsize=(8,4))\n",
        "\n",
        "# Plot bar graph for accuracies\n",
        "axes[0].bar(classifiers, accuracies, color='skyblue')\n",
        "axes[0].set_xlabel('Classifier')\n",
        "axes[0].set_ylabel('Accuracy')\n",
        "axes[0].set_title('Accuracy Comparison of Different Classifiers')\n",
        "axes[0].set_ylim(0, 1)\n",
        "\n",
        "# Plot bar graph for precision scores\n",
        "axes[1].bar(classifiers, precision_scores, color='lightgreen')\n",
        "axes[1].set_xlabel('Classifier')\n",
        "axes[1].set_ylabel('Precision Score')\n",
        "axes[1].set_title('Precision Score Comparison of Different Classifiers')\n",
        "axes[1].set_ylim(0, 1)\n",
        "plt.tight_layout()\n",
        "plt.show()"
      ],
      "metadata": {
        "colab": {
          "base_uri": "https://localhost:8080/",
          "height": 407
        },
        "id": "IG3fcyeKc7lA",
        "outputId": "aae87f78-1caf-4b35-9a35-62ea3a3e4cd8"
      },
      "execution_count": null,
      "outputs": [
        {
          "output_type": "display_data",
          "data": {
            "text/plain": [
              "<Figure size 800x400 with 2 Axes>"
            ],
            "image/png": "[encoded data removed]"
          },
          "metadata": {}
        }
      ]
    },
    {
      "cell_type": "code",
      "source": [
        "new_emails = [\n",
        "    \"Get a free iPhone now!\",\n",
        "    \"Hey, how's it going?\",\n",
        "    \"Congratulations! You've won a prize!\",\n",
        "    \"Reminder: Meeting at 2 PM tomorrow.\"\n",
        "]\n",
        "\n",
        "# Convert new data into numerical vectors using the trained tfidf_vectorizer\n",
        "new_X = tfidf.transform(new_emails)\n",
        "new_X_dense = new_X.toarray()\n",
        "\n",
        "# Use the trained SVM model to make predictions\n",
        "svm_predictions = svc_classifier.predict(new_X_dense)\n",
        "\n",
        "# Print the predictions\n",
        "for email, prediction in zip(new_emails, svm_predictions):\n",
        "    if prediction == 1:\n",
        "        print(f\"'{email}' is predicted as spam.\")\n",
        "    else:\n",
        "        print(f\"'{email}' is predicted as ham.\")"
      ],
      "metadata": {
        "colab": {
          "base_uri": "https://localhost:8080/"
        },
        "id": "nSoGkUafc_Lr",
        "outputId": "06ad8d2f-5a18-43e2-fee8-7823b8cb09b0"
      },
      "execution_count": null,
      "outputs": [
        {
          "output_type": "stream",
          "name": "stdout",
          "text": [
            "'Get a free iPhone now!' is predicted as spam.\n",
            "'Hey, how's it going?' is predicted as ham.\n",
            "'Congratulations! You've won a prize!' is predicted as spam.\n",
            "'Reminder: Meeting at 2 PM tomorrow.' is predicted as ham.\n"
          ]
        }
      ]
    },
    {
      "cell_type": "code",
      "source": [
        "def predict_email(email):\n",
        "    # Convert email into numerical vector using the trained TF-IDF vectorizer\n",
        "    email_vector = tfidf.transform([email])\n",
        "\n",
        "    # Convert sparse matrix to dense array\n",
        "    email_vector_dense = email_vector.toarray()\n",
        "\n",
        "    # Use the trained SVM model to make predictions\n",
        "    prediction = svc_classifier.predict(email_vector_dense)\n",
        "\n",
        "    # Print the prediction\n",
        "    if prediction[0] == 1:\n",
        "        print(\"The email is predicted as spam.\")\n",
        "    else:\n",
        "        print(\"The email is predicted as ham.\")\n",
        "\n",
        "# Get user input for email\n",
        "user_email = input(\"Enter the email text: \")\n",
        "\n",
        "# Predict whether the input email is spam or ham\n",
        "predict_email(user_email)"
      ],
      "metadata": {
        "colab": {
          "base_uri": "https://localhost:8080/"
        },
        "id": "Cz6mXc16dHmF",
        "outputId": "d03f2b34-045c-4e89-c4d2-365f5afb1067"
      },
      "execution_count": null,
      "outputs": [
        {
          "output_type": "stream",
          "name": "stdout",
          "text": [
            "Enter the email text: Dont miss the opportunity\n",
            "The email is predicted as ham.\n"
          ]
        }
      ]
    },
    {
      "cell_type": "code",
      "source": [],
      "metadata": {
        "id": "ajl3SMrzv06q"
      },
      "execution_count": null,
      "outputs": []
    }
  ]
}